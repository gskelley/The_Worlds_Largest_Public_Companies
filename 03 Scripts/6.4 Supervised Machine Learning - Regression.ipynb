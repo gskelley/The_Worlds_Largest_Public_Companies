{
 "cells": [
  {
   "cell_type": "markdown",
   "id": "e6be557e",
   "metadata": {},
   "source": [
    "# 6.4 SUPERVISED MACHINE LEARNING - REGERESSION\n",
    "** **\n",
    "**SCRIPT CONTENTS:**\n",
    "\n",
    "      1) IMPORTING LIBRARIES & FILES\n",
    "      2) DATA CLEANING\n",
    "      3) HYPOTHESES TESTING\n",
    "         \n",
    "         A) Hypothesis 1: An increase in revenue will result in a corresponding increase in profit.\n",
    "              - Data prep for regression analysis\n",
    "              - Regression Analysis\n",
    "         \n",
    "         B) Hypothesis 2: The industries performances has no significant difference before and during pandemic.\n",
    "              - Data prep for regression analysis\n",
    "              - Regression Analysis  "
   ]
  },
  {
   "cell_type": "markdown",
   "id": "1d99a9e0",
   "metadata": {},
   "source": [
    "## IMPORTING LIBRARIES & FILES\n",
    "** **"
   ]
  },
  {
   "cell_type": "code",
   "execution_count": 1,
   "id": "3265f513",
   "metadata": {},
   "outputs": [],
   "source": [
    "import pandas as pd\n",
    "import numpy as np\n",
    "import seaborn as sns\n",
    "import matplotlib\n",
    "import matplotlib.pyplot as plt\n",
    "import os\n",
    "import sklearn\n",
    "from sklearn.model_selection import train_test_split \n",
    "from sklearn.linear_model import LinearRegression\n",
    "from sklearn.metrics import mean_squared_error, r2_score"
   ]
  },
  {
   "cell_type": "code",
   "execution_count": 2,
   "id": "bca0f790",
   "metadata": {},
   "outputs": [],
   "source": [
    "# Command to prompts matplotlib visuals to appear in the notebook \n",
    "\n",
    "%matplotlib inline "
   ]
  },
  {
   "cell_type": "code",
   "execution_count": 3,
   "id": "7621453c",
   "metadata": {},
   "outputs": [],
   "source": [
    "# Document File Location\n",
    "\n",
    "path = r'C:\\Users\\G\\03-2023 The World Largest Public Companies (Pre-Post Pandemic)'"
   ]
  },
  {
   "cell_type": "code",
   "execution_count": 4,
   "id": "567599ae",
   "metadata": {},
   "outputs": [],
   "source": [
    "# Import files\n",
    "\n",
    "# Merged Dataset\n",
    "df = pd.read_csv(os.path.join(path, '02 Data', 'Prepared Data', 'Clean Global Public Companies Growth Rate3.csv'), index_col = False)"
   ]
  },
  {
   "cell_type": "markdown",
   "id": "158e0aee",
   "metadata": {},
   "source": [
    "## DATA CLEANING\n",
    "** **\n",
    "The merged dataset is clean but will run some check points to verify consistency and detected any possible missed anomilies before proceeding."
   ]
  },
  {
   "cell_type": "code",
   "execution_count": 5,
   "id": "24ec9252",
   "metadata": {},
   "outputs": [
    {
     "data": {
      "text/plain": [
       "(7021, 12)"
      ]
     },
     "execution_count": 5,
     "metadata": {},
     "output_type": "execute_result"
    }
   ],
   "source": [
    "# Check dataframe dimension\n",
    "\n",
    "df.shape"
   ]
  },
  {
   "cell_type": "code",
   "execution_count": 6,
   "id": "5baef7f6",
   "metadata": {},
   "outputs": [
    {
     "data": {
      "text/plain": [
       "Index(['Year', 'Country', 'Industry', 'Sales', 'Assets', 'Profits',\n",
       "       'Market Value', 'Sales Growth', 'Assets Growth', 'Profits Growth',\n",
       "       'Market Value Growth', 'Region'],\n",
       "      dtype='object')"
      ]
     },
     "execution_count": 6,
     "metadata": {},
     "output_type": "execute_result"
    }
   ],
   "source": [
    "# Check Column Names\n",
    "\n",
    "df.columns"
   ]
  },
  {
   "cell_type": "code",
   "execution_count": 7,
   "id": "6c170734",
   "metadata": {},
   "outputs": [
    {
     "data": {
      "text/html": [
       "<div>\n",
       "<style scoped>\n",
       "    .dataframe tbody tr th:only-of-type {\n",
       "        vertical-align: middle;\n",
       "    }\n",
       "\n",
       "    .dataframe tbody tr th {\n",
       "        vertical-align: top;\n",
       "    }\n",
       "\n",
       "    .dataframe thead th {\n",
       "        text-align: right;\n",
       "    }\n",
       "</style>\n",
       "<table border=\"1\" class=\"dataframe\">\n",
       "  <thead>\n",
       "    <tr style=\"text-align: right;\">\n",
       "      <th></th>\n",
       "      <th>Year</th>\n",
       "      <th>Country</th>\n",
       "      <th>Industry</th>\n",
       "      <th>Sales</th>\n",
       "      <th>Assets</th>\n",
       "      <th>Profits</th>\n",
       "      <th>Market Value</th>\n",
       "      <th>Sales Growth</th>\n",
       "      <th>Assets Growth</th>\n",
       "      <th>Profits Growth</th>\n",
       "      <th>Market Value Growth</th>\n",
       "      <th>Region</th>\n",
       "    </tr>\n",
       "  </thead>\n",
       "  <tbody>\n",
       "    <tr>\n",
       "      <th>0</th>\n",
       "      <td>2009</td>\n",
       "      <td>Australia</td>\n",
       "      <td>Banking</td>\n",
       "      <td>135900</td>\n",
       "      <td>1772680</td>\n",
       "      <td>14100</td>\n",
       "      <td>101640</td>\n",
       "      <td>9.323466</td>\n",
       "      <td>6.317848</td>\n",
       "      <td>-10.702977</td>\n",
       "      <td>-46.676460</td>\n",
       "      <td>Oceanic</td>\n",
       "    </tr>\n",
       "    <tr>\n",
       "      <th>1</th>\n",
       "      <td>2009</td>\n",
       "      <td>Australia</td>\n",
       "      <td>Business Services &amp; Supplies</td>\n",
       "      <td>4610</td>\n",
       "      <td>5640</td>\n",
       "      <td>690</td>\n",
       "      <td>4090</td>\n",
       "      <td>14.392060</td>\n",
       "      <td>12.574850</td>\n",
       "      <td>-46.511628</td>\n",
       "      <td>-70.405210</td>\n",
       "      <td>Oceanic</td>\n",
       "    </tr>\n",
       "    <tr>\n",
       "      <th>2</th>\n",
       "      <td>2009</td>\n",
       "      <td>Australia</td>\n",
       "      <td>Chemicals</td>\n",
       "      <td>7470</td>\n",
       "      <td>12290</td>\n",
       "      <td>910</td>\n",
       "      <td>5280</td>\n",
       "      <td>52.448980</td>\n",
       "      <td>131.886793</td>\n",
       "      <td>111.627907</td>\n",
       "      <td>-37.588652</td>\n",
       "      <td>Oceanic</td>\n",
       "    </tr>\n",
       "    <tr>\n",
       "      <th>3</th>\n",
       "      <td>2009</td>\n",
       "      <td>Australia</td>\n",
       "      <td>Conglomerates</td>\n",
       "      <td>31870</td>\n",
       "      <td>35430</td>\n",
       "      <td>1000</td>\n",
       "      <td>12960</td>\n",
       "      <td>288.185140</td>\n",
       "      <td>245.321637</td>\n",
       "      <td>49.253731</td>\n",
       "      <td>-32.675325</td>\n",
       "      <td>Oceanic</td>\n",
       "    </tr>\n",
       "    <tr>\n",
       "      <th>4</th>\n",
       "      <td>2009</td>\n",
       "      <td>Australia</td>\n",
       "      <td>Diversified Financials</td>\n",
       "      <td>58780</td>\n",
       "      <td>457940</td>\n",
       "      <td>1460</td>\n",
       "      <td>39550</td>\n",
       "      <td>11.389047</td>\n",
       "      <td>6.947850</td>\n",
       "      <td>-88.795088</td>\n",
       "      <td>-67.897727</td>\n",
       "      <td>Oceanic</td>\n",
       "    </tr>\n",
       "    <tr>\n",
       "      <th>5</th>\n",
       "      <td>2009</td>\n",
       "      <td>Australia</td>\n",
       "      <td>Drugs &amp; Biotechnology</td>\n",
       "      <td>3400</td>\n",
       "      <td>4340</td>\n",
       "      <td>670</td>\n",
       "      <td>14120</td>\n",
       "      <td>25.925926</td>\n",
       "      <td>26.162791</td>\n",
       "      <td>45.652174</td>\n",
       "      <td>-24.853646</td>\n",
       "      <td>Oceanic</td>\n",
       "    </tr>\n",
       "    <tr>\n",
       "      <th>6</th>\n",
       "      <td>2009</td>\n",
       "      <td>Australia</td>\n",
       "      <td>Food Markets</td>\n",
       "      <td>54550</td>\n",
       "      <td>17570</td>\n",
       "      <td>1750</td>\n",
       "      <td>22510</td>\n",
       "      <td>23.556059</td>\n",
       "      <td>21.172414</td>\n",
       "      <td>41.129032</td>\n",
       "      <td>-37.332962</td>\n",
       "      <td>Oceanic</td>\n",
       "    </tr>\n",
       "    <tr>\n",
       "      <th>7</th>\n",
       "      <td>2009</td>\n",
       "      <td>Australia</td>\n",
       "      <td>Food, Drink &amp; Tobacco</td>\n",
       "      <td>7040</td>\n",
       "      <td>11170</td>\n",
       "      <td>380</td>\n",
       "      <td>10980</td>\n",
       "      <td>-4.087193</td>\n",
       "      <td>-6.448911</td>\n",
       "      <td>-65.137615</td>\n",
       "      <td>-32.138443</td>\n",
       "      <td>Oceanic</td>\n",
       "    </tr>\n",
       "    <tr>\n",
       "      <th>8</th>\n",
       "      <td>2009</td>\n",
       "      <td>Australia</td>\n",
       "      <td>Hotels, Restaurants &amp; Leisure</td>\n",
       "      <td>1920</td>\n",
       "      <td>7100</td>\n",
       "      <td>3410</td>\n",
       "      <td>2390</td>\n",
       "      <td>-59.663866</td>\n",
       "      <td>-41.419142</td>\n",
       "      <td>459.016393</td>\n",
       "      <td>-83.927371</td>\n",
       "      <td>Oceanic</td>\n",
       "    </tr>\n",
       "    <tr>\n",
       "      <th>9</th>\n",
       "      <td>2009</td>\n",
       "      <td>Australia</td>\n",
       "      <td>Insurance</td>\n",
       "      <td>16950</td>\n",
       "      <td>51820</td>\n",
       "      <td>1030</td>\n",
       "      <td>16560</td>\n",
       "      <td>1.985560</td>\n",
       "      <td>-1.744407</td>\n",
       "      <td>-52.314815</td>\n",
       "      <td>-34.415842</td>\n",
       "      <td>Oceanic</td>\n",
       "    </tr>\n",
       "    <tr>\n",
       "      <th>10</th>\n",
       "      <td>2009</td>\n",
       "      <td>Australia</td>\n",
       "      <td>Materials</td>\n",
       "      <td>149290</td>\n",
       "      <td>191410</td>\n",
       "      <td>20660</td>\n",
       "      <td>152210</td>\n",
       "      <td>70.597646</td>\n",
       "      <td>7.727375</td>\n",
       "      <td>-9.742246</td>\n",
       "      <td>-62.978547</td>\n",
       "      <td>Oceanic</td>\n",
       "    </tr>\n",
       "    <tr>\n",
       "      <th>11</th>\n",
       "      <td>2009</td>\n",
       "      <td>Australia</td>\n",
       "      <td>Media</td>\n",
       "      <td>2790</td>\n",
       "      <td>8000</td>\n",
       "      <td>1330</td>\n",
       "      <td>2310</td>\n",
       "      <td>12.500000</td>\n",
       "      <td>-8.045977</td>\n",
       "      <td>-56.250000</td>\n",
       "      <td>-56.000000</td>\n",
       "      <td>Oceanic</td>\n",
       "    </tr>\n",
       "    <tr>\n",
       "      <th>12</th>\n",
       "      <td>2009</td>\n",
       "      <td>Australia</td>\n",
       "      <td>Oil &amp; Gas Operations</td>\n",
       "      <td>10010</td>\n",
       "      <td>20110</td>\n",
       "      <td>2700</td>\n",
       "      <td>24140</td>\n",
       "      <td>88.157895</td>\n",
       "      <td>36.802721</td>\n",
       "      <td>76.470588</td>\n",
       "      <td>-44.848069</td>\n",
       "      <td>Oceanic</td>\n",
       "    </tr>\n",
       "    <tr>\n",
       "      <th>13</th>\n",
       "      <td>2009</td>\n",
       "      <td>Australia</td>\n",
       "      <td>Telecommunications Services</td>\n",
       "      <td>23600</td>\n",
       "      <td>36390</td>\n",
       "      <td>3530</td>\n",
       "      <td>28220</td>\n",
       "      <td>17.354550</td>\n",
       "      <td>13.082660</td>\n",
       "      <td>27.898551</td>\n",
       "      <td>-50.211715</td>\n",
       "      <td>Oceanic</td>\n",
       "    </tr>\n",
       "    <tr>\n",
       "      <th>14</th>\n",
       "      <td>2009</td>\n",
       "      <td>Australia</td>\n",
       "      <td>Transportation</td>\n",
       "      <td>19370</td>\n",
       "      <td>40780</td>\n",
       "      <td>2220</td>\n",
       "      <td>7580</td>\n",
       "      <td>-13.526786</td>\n",
       "      <td>-24.383460</td>\n",
       "      <td>-11.200000</td>\n",
       "      <td>-70.688322</td>\n",
       "      <td>Oceanic</td>\n",
       "    </tr>\n",
       "    <tr>\n",
       "      <th>15</th>\n",
       "      <td>2009</td>\n",
       "      <td>Australia</td>\n",
       "      <td>Utilities</td>\n",
       "      <td>13110</td>\n",
       "      <td>21030</td>\n",
       "      <td>710</td>\n",
       "      <td>11360</td>\n",
       "      <td>54.054054</td>\n",
       "      <td>-14.163265</td>\n",
       "      <td>-4.054054</td>\n",
       "      <td>-3.728814</td>\n",
       "      <td>Oceanic</td>\n",
       "    </tr>\n",
       "    <tr>\n",
       "      <th>16</th>\n",
       "      <td>2009</td>\n",
       "      <td>Austria</td>\n",
       "      <td>Banking</td>\n",
       "      <td>38790</td>\n",
       "      <td>534520</td>\n",
       "      <td>3410</td>\n",
       "      <td>15910</td>\n",
       "      <td>41.311475</td>\n",
       "      <td>27.518668</td>\n",
       "      <td>10.000000</td>\n",
       "      <td>-73.518642</td>\n",
       "      <td>Europe</td>\n",
       "    </tr>\n",
       "    <tr>\n",
       "      <th>17</th>\n",
       "      <td>2009</td>\n",
       "      <td>Austria</td>\n",
       "      <td>Construction</td>\n",
       "      <td>14420</td>\n",
       "      <td>11180</td>\n",
       "      <td>250</td>\n",
       "      <td>1490</td>\n",
       "      <td>15.916399</td>\n",
       "      <td>54.633472</td>\n",
       "      <td>0.000000</td>\n",
       "      <td>-78.805121</td>\n",
       "      <td>Europe</td>\n",
       "    </tr>\n",
       "    <tr>\n",
       "      <th>18</th>\n",
       "      <td>2009</td>\n",
       "      <td>Austria</td>\n",
       "      <td>Diversified Financials</td>\n",
       "      <td>1450</td>\n",
       "      <td>24150</td>\n",
       "      <td>470</td>\n",
       "      <td>450</td>\n",
       "      <td>98.630137</td>\n",
       "      <td>39.918888</td>\n",
       "      <td>-25.396825</td>\n",
       "      <td>-91.000000</td>\n",
       "      <td>Europe</td>\n",
       "    </tr>\n",
       "    <tr>\n",
       "      <th>19</th>\n",
       "      <td>2009</td>\n",
       "      <td>Austria</td>\n",
       "      <td>Insurance</td>\n",
       "      <td>18140</td>\n",
       "      <td>72980</td>\n",
       "      <td>820</td>\n",
       "      <td>5130</td>\n",
       "      <td>22.816520</td>\n",
       "      <td>23.069140</td>\n",
       "      <td>51.851852</td>\n",
       "      <td>-56.926952</td>\n",
       "      <td>Europe</td>\n",
       "    </tr>\n",
       "  </tbody>\n",
       "</table>\n",
       "</div>"
      ],
      "text/plain": [
       "    Year    Country                       Industry   Sales   Assets  Profits  \\\n",
       "0   2009  Australia                        Banking  135900  1772680    14100   \n",
       "1   2009  Australia   Business Services & Supplies    4610     5640      690   \n",
       "2   2009  Australia                      Chemicals    7470    12290      910   \n",
       "3   2009  Australia                  Conglomerates   31870    35430     1000   \n",
       "4   2009  Australia         Diversified Financials   58780   457940     1460   \n",
       "5   2009  Australia          Drugs & Biotechnology    3400     4340      670   \n",
       "6   2009  Australia                   Food Markets   54550    17570     1750   \n",
       "7   2009  Australia          Food, Drink & Tobacco    7040    11170      380   \n",
       "8   2009  Australia  Hotels, Restaurants & Leisure    1920     7100     3410   \n",
       "9   2009  Australia                      Insurance   16950    51820     1030   \n",
       "10  2009  Australia                      Materials  149290   191410    20660   \n",
       "11  2009  Australia                          Media    2790     8000     1330   \n",
       "12  2009  Australia           Oil & Gas Operations   10010    20110     2700   \n",
       "13  2009  Australia    Telecommunications Services   23600    36390     3530   \n",
       "14  2009  Australia                 Transportation   19370    40780     2220   \n",
       "15  2009  Australia                      Utilities   13110    21030      710   \n",
       "16  2009    Austria                        Banking   38790   534520     3410   \n",
       "17  2009    Austria                   Construction   14420    11180      250   \n",
       "18  2009    Austria         Diversified Financials    1450    24150      470   \n",
       "19  2009    Austria                      Insurance   18140    72980      820   \n",
       "\n",
       "    Market Value  Sales Growth  Assets Growth  Profits Growth  \\\n",
       "0         101640      9.323466       6.317848      -10.702977   \n",
       "1           4090     14.392060      12.574850      -46.511628   \n",
       "2           5280     52.448980     131.886793      111.627907   \n",
       "3          12960    288.185140     245.321637       49.253731   \n",
       "4          39550     11.389047       6.947850      -88.795088   \n",
       "5          14120     25.925926      26.162791       45.652174   \n",
       "6          22510     23.556059      21.172414       41.129032   \n",
       "7          10980     -4.087193      -6.448911      -65.137615   \n",
       "8           2390    -59.663866     -41.419142      459.016393   \n",
       "9          16560      1.985560      -1.744407      -52.314815   \n",
       "10        152210     70.597646       7.727375       -9.742246   \n",
       "11          2310     12.500000      -8.045977      -56.250000   \n",
       "12         24140     88.157895      36.802721       76.470588   \n",
       "13         28220     17.354550      13.082660       27.898551   \n",
       "14          7580    -13.526786     -24.383460      -11.200000   \n",
       "15         11360     54.054054     -14.163265       -4.054054   \n",
       "16         15910     41.311475      27.518668       10.000000   \n",
       "17          1490     15.916399      54.633472        0.000000   \n",
       "18           450     98.630137      39.918888      -25.396825   \n",
       "19          5130     22.816520      23.069140       51.851852   \n",
       "\n",
       "    Market Value Growth   Region  \n",
       "0            -46.676460  Oceanic  \n",
       "1            -70.405210  Oceanic  \n",
       "2            -37.588652  Oceanic  \n",
       "3            -32.675325  Oceanic  \n",
       "4            -67.897727  Oceanic  \n",
       "5            -24.853646  Oceanic  \n",
       "6            -37.332962  Oceanic  \n",
       "7            -32.138443  Oceanic  \n",
       "8            -83.927371  Oceanic  \n",
       "9            -34.415842  Oceanic  \n",
       "10           -62.978547  Oceanic  \n",
       "11           -56.000000  Oceanic  \n",
       "12           -44.848069  Oceanic  \n",
       "13           -50.211715  Oceanic  \n",
       "14           -70.688322  Oceanic  \n",
       "15            -3.728814  Oceanic  \n",
       "16           -73.518642   Europe  \n",
       "17           -78.805121   Europe  \n",
       "18           -91.000000   Europe  \n",
       "19           -56.926952   Europe  "
      ]
     },
     "execution_count": 7,
     "metadata": {},
     "output_type": "execute_result"
    }
   ],
   "source": [
    "# Checking  heads\n",
    "\n",
    "df.head(20)"
   ]
  },
  {
   "cell_type": "code",
   "execution_count": 8,
   "id": "8badf436",
   "metadata": {},
   "outputs": [
    {
     "data": {
      "text/html": [
       "<div>\n",
       "<style scoped>\n",
       "    .dataframe tbody tr th:only-of-type {\n",
       "        vertical-align: middle;\n",
       "    }\n",
       "\n",
       "    .dataframe tbody tr th {\n",
       "        vertical-align: top;\n",
       "    }\n",
       "\n",
       "    .dataframe thead th {\n",
       "        text-align: right;\n",
       "    }\n",
       "</style>\n",
       "<table border=\"1\" class=\"dataframe\">\n",
       "  <thead>\n",
       "    <tr style=\"text-align: right;\">\n",
       "      <th></th>\n",
       "      <th>Year</th>\n",
       "      <th>Country</th>\n",
       "      <th>Industry</th>\n",
       "      <th>Sales</th>\n",
       "      <th>Assets</th>\n",
       "      <th>Profits</th>\n",
       "      <th>Market Value</th>\n",
       "      <th>Sales Growth</th>\n",
       "      <th>Assets Growth</th>\n",
       "      <th>Profits Growth</th>\n",
       "      <th>Market Value Growth</th>\n",
       "      <th>Region</th>\n",
       "    </tr>\n",
       "  </thead>\n",
       "  <tbody>\n",
       "    <tr>\n",
       "      <th>7001</th>\n",
       "      <td>2022</td>\n",
       "      <td>United States of America</td>\n",
       "      <td>Consumer Durables</td>\n",
       "      <td>551746</td>\n",
       "      <td>809500</td>\n",
       "      <td>47167</td>\n",
       "      <td>2057813</td>\n",
       "      <td>-11.814469</td>\n",
       "      <td>-19.779366</td>\n",
       "      <td>26.680633</td>\n",
       "      <td>-0.571116</td>\n",
       "      <td>NorthAmerica</td>\n",
       "    </tr>\n",
       "    <tr>\n",
       "      <th>7002</th>\n",
       "      <td>2022</td>\n",
       "      <td>United States of America</td>\n",
       "      <td>Diversified Financials</td>\n",
       "      <td>1070829</td>\n",
       "      <td>15631532</td>\n",
       "      <td>281591</td>\n",
       "      <td>3531781</td>\n",
       "      <td>12.553448</td>\n",
       "      <td>14.000841</td>\n",
       "      <td>61.623055</td>\n",
       "      <td>14.199514</td>\n",
       "      <td>NorthAmerica</td>\n",
       "    </tr>\n",
       "    <tr>\n",
       "      <th>7003</th>\n",
       "      <td>2022</td>\n",
       "      <td>United States of America</td>\n",
       "      <td>Drugs &amp; Biotechnology</td>\n",
       "      <td>1561635</td>\n",
       "      <td>1551931</td>\n",
       "      <td>136557</td>\n",
       "      <td>2773479</td>\n",
       "      <td>16.459360</td>\n",
       "      <td>6.806829</td>\n",
       "      <td>124.367842</td>\n",
       "      <td>13.199805</td>\n",
       "      <td>NorthAmerica</td>\n",
       "    </tr>\n",
       "    <tr>\n",
       "      <th>7004</th>\n",
       "      <td>2022</td>\n",
       "      <td>United States of America</td>\n",
       "      <td>Food Markets</td>\n",
       "      <td>367500</td>\n",
       "      <td>133923</td>\n",
       "      <td>4481</td>\n",
       "      <td>121131</td>\n",
       "      <td>13.324494</td>\n",
       "      <td>4.587306</td>\n",
       "      <td>44.269156</td>\n",
       "      <td>24.946878</td>\n",
       "      <td>NorthAmerica</td>\n",
       "    </tr>\n",
       "    <tr>\n",
       "      <th>7005</th>\n",
       "      <td>2022</td>\n",
       "      <td>United States of America</td>\n",
       "      <td>Food, Drink &amp; Tobacco</td>\n",
       "      <td>548237</td>\n",
       "      <td>799372</td>\n",
       "      <td>57422</td>\n",
       "      <td>1431480</td>\n",
       "      <td>7.258748</td>\n",
       "      <td>-18.916523</td>\n",
       "      <td>-2.914821</td>\n",
       "      <td>5.728942</td>\n",
       "      <td>NorthAmerica</td>\n",
       "    </tr>\n",
       "    <tr>\n",
       "      <th>7006</th>\n",
       "      <td>2022</td>\n",
       "      <td>United States of America</td>\n",
       "      <td>Health Care Equipment &amp; Services</td>\n",
       "      <td>345161</td>\n",
       "      <td>604062</td>\n",
       "      <td>50945</td>\n",
       "      <td>1295525</td>\n",
       "      <td>12.490019</td>\n",
       "      <td>5.947723</td>\n",
       "      <td>30.494365</td>\n",
       "      <td>-2.835455</td>\n",
       "      <td>NorthAmerica</td>\n",
       "    </tr>\n",
       "    <tr>\n",
       "      <th>7007</th>\n",
       "      <td>2022</td>\n",
       "      <td>United States of America</td>\n",
       "      <td>Hotels, Restaurants &amp; Leisure</td>\n",
       "      <td>131831</td>\n",
       "      <td>343720</td>\n",
       "      <td>-311</td>\n",
       "      <td>546481</td>\n",
       "      <td>20.467318</td>\n",
       "      <td>-6.112058</td>\n",
       "      <td>-98.178837</td>\n",
       "      <td>-18.945108</td>\n",
       "      <td>NorthAmerica</td>\n",
       "    </tr>\n",
       "    <tr>\n",
       "      <th>7008</th>\n",
       "      <td>2022</td>\n",
       "      <td>United States of America</td>\n",
       "      <td>IT Software &amp; Services</td>\n",
       "      <td>902299</td>\n",
       "      <td>1600521</td>\n",
       "      <td>218909</td>\n",
       "      <td>5997883</td>\n",
       "      <td>25.709003</td>\n",
       "      <td>11.794067</td>\n",
       "      <td>46.364767</td>\n",
       "      <td>-15.417380</td>\n",
       "      <td>NorthAmerica</td>\n",
       "    </tr>\n",
       "    <tr>\n",
       "      <th>7009</th>\n",
       "      <td>2022</td>\n",
       "      <td>United States of America</td>\n",
       "      <td>Insurance</td>\n",
       "      <td>949974</td>\n",
       "      <td>3673566</td>\n",
       "      <td>82700</td>\n",
       "      <td>1219609</td>\n",
       "      <td>5.725234</td>\n",
       "      <td>-2.593096</td>\n",
       "      <td>43.656198</td>\n",
       "      <td>14.986942</td>\n",
       "      <td>NorthAmerica</td>\n",
       "    </tr>\n",
       "    <tr>\n",
       "      <th>7010</th>\n",
       "      <td>2022</td>\n",
       "      <td>United States of America</td>\n",
       "      <td>Materials</td>\n",
       "      <td>282090</td>\n",
       "      <td>337931</td>\n",
       "      <td>36822</td>\n",
       "      <td>375086</td>\n",
       "      <td>77.984870</td>\n",
       "      <td>28.116268</td>\n",
       "      <td>334.426616</td>\n",
       "      <td>24.293265</td>\n",
       "      <td>NorthAmerica</td>\n",
       "    </tr>\n",
       "    <tr>\n",
       "      <th>7011</th>\n",
       "      <td>2022</td>\n",
       "      <td>United States of America</td>\n",
       "      <td>Media</td>\n",
       "      <td>407204</td>\n",
       "      <td>991279</td>\n",
       "      <td>39912</td>\n",
       "      <td>836811</td>\n",
       "      <td>17.019705</td>\n",
       "      <td>7.756853</td>\n",
       "      <td>95.455436</td>\n",
       "      <td>-27.456818</td>\n",
       "      <td>NorthAmerica</td>\n",
       "    </tr>\n",
       "    <tr>\n",
       "      <th>7012</th>\n",
       "      <td>2022</td>\n",
       "      <td>United States of America</td>\n",
       "      <td>Oil &amp; Gas Operations</td>\n",
       "      <td>1183667</td>\n",
       "      <td>1666363</td>\n",
       "      <td>86795</td>\n",
       "      <td>1714459</td>\n",
       "      <td>77.339814</td>\n",
       "      <td>20.902947</td>\n",
       "      <td>-204.065752</td>\n",
       "      <td>77.038913</td>\n",
       "      <td>NorthAmerica</td>\n",
       "    </tr>\n",
       "    <tr>\n",
       "      <th>7013</th>\n",
       "      <td>2022</td>\n",
       "      <td>United States of America</td>\n",
       "      <td>Retailing</td>\n",
       "      <td>2466591</td>\n",
       "      <td>1528776</td>\n",
       "      <td>116222</td>\n",
       "      <td>3142516</td>\n",
       "      <td>7.149261</td>\n",
       "      <td>3.825607</td>\n",
       "      <td>42.626431</td>\n",
       "      <td>-13.406912</td>\n",
       "      <td>NorthAmerica</td>\n",
       "    </tr>\n",
       "    <tr>\n",
       "      <th>7014</th>\n",
       "      <td>2022</td>\n",
       "      <td>United States of America</td>\n",
       "      <td>Semiconductors</td>\n",
       "      <td>331490</td>\n",
       "      <td>617205</td>\n",
       "      <td>87547</td>\n",
       "      <td>1928322</td>\n",
       "      <td>27.401093</td>\n",
       "      <td>22.998942</td>\n",
       "      <td>44.715353</td>\n",
       "      <td>0.299235</td>\n",
       "      <td>NorthAmerica</td>\n",
       "    </tr>\n",
       "    <tr>\n",
       "      <th>7015</th>\n",
       "      <td>2022</td>\n",
       "      <td>United States of America</td>\n",
       "      <td>Technology Hardware &amp; Equipment</td>\n",
       "      <td>737785</td>\n",
       "      <td>815222</td>\n",
       "      <td>138872</td>\n",
       "      <td>3267830</td>\n",
       "      <td>19.357772</td>\n",
       "      <td>0.998686</td>\n",
       "      <td>59.898676</td>\n",
       "      <td>11.466502</td>\n",
       "      <td>NorthAmerica</td>\n",
       "    </tr>\n",
       "    <tr>\n",
       "      <th>7016</th>\n",
       "      <td>2022</td>\n",
       "      <td>United States of America</td>\n",
       "      <td>Telecommunications Services</td>\n",
       "      <td>318836</td>\n",
       "      <td>967347</td>\n",
       "      <td>44819</td>\n",
       "      <td>405715</td>\n",
       "      <td>-5.087430</td>\n",
       "      <td>3.250641</td>\n",
       "      <td>251.576718</td>\n",
       "      <td>-24.016294</td>\n",
       "      <td>NorthAmerica</td>\n",
       "    </tr>\n",
       "    <tr>\n",
       "      <th>7017</th>\n",
       "      <td>2022</td>\n",
       "      <td>United States of America</td>\n",
       "      <td>Trading Companies</td>\n",
       "      <td>192400</td>\n",
       "      <td>107614</td>\n",
       "      <td>6217</td>\n",
       "      <td>123088</td>\n",
       "      <td>35.084849</td>\n",
       "      <td>69.703373</td>\n",
       "      <td>113.203018</td>\n",
       "      <td>34.731496</td>\n",
       "      <td>NorthAmerica</td>\n",
       "    </tr>\n",
       "    <tr>\n",
       "      <th>7018</th>\n",
       "      <td>2022</td>\n",
       "      <td>United States of America</td>\n",
       "      <td>Transportation</td>\n",
       "      <td>424839</td>\n",
       "      <td>580462</td>\n",
       "      <td>33389</td>\n",
       "      <td>676383</td>\n",
       "      <td>34.207434</td>\n",
       "      <td>1.475290</td>\n",
       "      <td>-332.675958</td>\n",
       "      <td>-9.373463</td>\n",
       "      <td>NorthAmerica</td>\n",
       "    </tr>\n",
       "    <tr>\n",
       "      <th>7019</th>\n",
       "      <td>2022</td>\n",
       "      <td>United States of America</td>\n",
       "      <td>Utilities</td>\n",
       "      <td>385438</td>\n",
       "      <td>1749266</td>\n",
       "      <td>31948</td>\n",
       "      <td>998347</td>\n",
       "      <td>23.539008</td>\n",
       "      <td>8.307246</td>\n",
       "      <td>17.017068</td>\n",
       "      <td>9.405852</td>\n",
       "      <td>NorthAmerica</td>\n",
       "    </tr>\n",
       "    <tr>\n",
       "      <th>7020</th>\n",
       "      <td>2022</td>\n",
       "      <td>Vietnam</td>\n",
       "      <td>Banking</td>\n",
       "      <td>15749</td>\n",
       "      <td>231534</td>\n",
       "      <td>2817</td>\n",
       "      <td>38311</td>\n",
       "      <td>6.383410</td>\n",
       "      <td>15.580338</td>\n",
       "      <td>27.006312</td>\n",
       "      <td>7.220621</td>\n",
       "      <td>Asia</td>\n",
       "    </tr>\n",
       "  </tbody>\n",
       "</table>\n",
       "</div>"
      ],
      "text/plain": [
       "      Year                   Country                          Industry  \\\n",
       "7001  2022  United States of America                 Consumer Durables   \n",
       "7002  2022  United States of America            Diversified Financials   \n",
       "7003  2022  United States of America             Drugs & Biotechnology   \n",
       "7004  2022  United States of America                      Food Markets   \n",
       "7005  2022  United States of America             Food, Drink & Tobacco   \n",
       "7006  2022  United States of America  Health Care Equipment & Services   \n",
       "7007  2022  United States of America     Hotels, Restaurants & Leisure   \n",
       "7008  2022  United States of America            IT Software & Services   \n",
       "7009  2022  United States of America                         Insurance   \n",
       "7010  2022  United States of America                         Materials   \n",
       "7011  2022  United States of America                             Media   \n",
       "7012  2022  United States of America              Oil & Gas Operations   \n",
       "7013  2022  United States of America                         Retailing   \n",
       "7014  2022  United States of America                    Semiconductors   \n",
       "7015  2022  United States of America   Technology Hardware & Equipment   \n",
       "7016  2022  United States of America       Telecommunications Services   \n",
       "7017  2022  United States of America                 Trading Companies   \n",
       "7018  2022  United States of America                    Transportation   \n",
       "7019  2022  United States of America                         Utilities   \n",
       "7020  2022                   Vietnam                           Banking   \n",
       "\n",
       "        Sales    Assets  Profits  Market Value  Sales Growth  Assets Growth  \\\n",
       "7001   551746    809500    47167       2057813    -11.814469     -19.779366   \n",
       "7002  1070829  15631532   281591       3531781     12.553448      14.000841   \n",
       "7003  1561635   1551931   136557       2773479     16.459360       6.806829   \n",
       "7004   367500    133923     4481        121131     13.324494       4.587306   \n",
       "7005   548237    799372    57422       1431480      7.258748     -18.916523   \n",
       "7006   345161    604062    50945       1295525     12.490019       5.947723   \n",
       "7007   131831    343720     -311        546481     20.467318      -6.112058   \n",
       "7008   902299   1600521   218909       5997883     25.709003      11.794067   \n",
       "7009   949974   3673566    82700       1219609      5.725234      -2.593096   \n",
       "7010   282090    337931    36822        375086     77.984870      28.116268   \n",
       "7011   407204    991279    39912        836811     17.019705       7.756853   \n",
       "7012  1183667   1666363    86795       1714459     77.339814      20.902947   \n",
       "7013  2466591   1528776   116222       3142516      7.149261       3.825607   \n",
       "7014   331490    617205    87547       1928322     27.401093      22.998942   \n",
       "7015   737785    815222   138872       3267830     19.357772       0.998686   \n",
       "7016   318836    967347    44819        405715     -5.087430       3.250641   \n",
       "7017   192400    107614     6217        123088     35.084849      69.703373   \n",
       "7018   424839    580462    33389        676383     34.207434       1.475290   \n",
       "7019   385438   1749266    31948        998347     23.539008       8.307246   \n",
       "7020    15749    231534     2817         38311      6.383410      15.580338   \n",
       "\n",
       "      Profits Growth  Market Value Growth        Region  \n",
       "7001       26.680633            -0.571116  NorthAmerica  \n",
       "7002       61.623055            14.199514  NorthAmerica  \n",
       "7003      124.367842            13.199805  NorthAmerica  \n",
       "7004       44.269156            24.946878  NorthAmerica  \n",
       "7005       -2.914821             5.728942  NorthAmerica  \n",
       "7006       30.494365            -2.835455  NorthAmerica  \n",
       "7007      -98.178837           -18.945108  NorthAmerica  \n",
       "7008       46.364767           -15.417380  NorthAmerica  \n",
       "7009       43.656198            14.986942  NorthAmerica  \n",
       "7010      334.426616            24.293265  NorthAmerica  \n",
       "7011       95.455436           -27.456818  NorthAmerica  \n",
       "7012     -204.065752            77.038913  NorthAmerica  \n",
       "7013       42.626431           -13.406912  NorthAmerica  \n",
       "7014       44.715353             0.299235  NorthAmerica  \n",
       "7015       59.898676            11.466502  NorthAmerica  \n",
       "7016      251.576718           -24.016294  NorthAmerica  \n",
       "7017      113.203018            34.731496  NorthAmerica  \n",
       "7018     -332.675958            -9.373463  NorthAmerica  \n",
       "7019       17.017068             9.405852  NorthAmerica  \n",
       "7020       27.006312             7.220621          Asia  "
      ]
     },
     "execution_count": 8,
     "metadata": {},
     "output_type": "execute_result"
    }
   ],
   "source": [
    "# Checking  heads\n",
    "\n",
    "df.tail(20)"
   ]
  },
  {
   "cell_type": "code",
   "execution_count": 9,
   "id": "2086877b",
   "metadata": {},
   "outputs": [
    {
     "data": {
      "text/plain": [
       "Year                   0\n",
       "Country                0\n",
       "Industry               0\n",
       "Sales                  0\n",
       "Assets                 0\n",
       "Profits                0\n",
       "Market Value           0\n",
       "Sales Growth           0\n",
       "Assets Growth          0\n",
       "Profits Growth         0\n",
       "Market Value Growth    0\n",
       "Region                 0\n",
       "dtype: int64"
      ]
     },
     "execution_count": 9,
     "metadata": {},
     "output_type": "execute_result"
    }
   ],
   "source": [
    "# Checking for Missing values\n",
    "\n",
    "df.isnull().sum()"
   ]
  },
  {
   "cell_type": "code",
   "execution_count": 10,
   "id": "1b53ae27",
   "metadata": {},
   "outputs": [
    {
     "data": {
      "text/html": [
       "<div>\n",
       "<style scoped>\n",
       "    .dataframe tbody tr th:only-of-type {\n",
       "        vertical-align: middle;\n",
       "    }\n",
       "\n",
       "    .dataframe tbody tr th {\n",
       "        vertical-align: top;\n",
       "    }\n",
       "\n",
       "    .dataframe thead th {\n",
       "        text-align: right;\n",
       "    }\n",
       "</style>\n",
       "<table border=\"1\" class=\"dataframe\">\n",
       "  <thead>\n",
       "    <tr style=\"text-align: right;\">\n",
       "      <th></th>\n",
       "      <th>Year</th>\n",
       "      <th>Country</th>\n",
       "      <th>Industry</th>\n",
       "      <th>Sales</th>\n",
       "      <th>Assets</th>\n",
       "      <th>Profits</th>\n",
       "      <th>Market Value</th>\n",
       "      <th>Sales Growth</th>\n",
       "      <th>Assets Growth</th>\n",
       "      <th>Profits Growth</th>\n",
       "      <th>Market Value Growth</th>\n",
       "      <th>Region</th>\n",
       "    </tr>\n",
       "  </thead>\n",
       "  <tbody>\n",
       "  </tbody>\n",
       "</table>\n",
       "</div>"
      ],
      "text/plain": [
       "Empty DataFrame\n",
       "Columns: [Year, Country, Industry, Sales, Assets, Profits, Market Value, Sales Growth, Assets Growth, Profits Growth, Market Value Growth, Region]\n",
       "Index: []"
      ]
     },
     "execution_count": 10,
     "metadata": {},
     "output_type": "execute_result"
    }
   ],
   "source": [
    "# Checking for Duplicate values for all dataframes\n",
    "\n",
    "df_dups = df[df.duplicated()]\n",
    "df_dups"
   ]
  },
  {
   "cell_type": "code",
   "execution_count": 11,
   "id": "e8b91c3a",
   "metadata": {},
   "outputs": [
    {
     "data": {
      "text/html": [
       "<div>\n",
       "<style scoped>\n",
       "    .dataframe tbody tr th:only-of-type {\n",
       "        vertical-align: middle;\n",
       "    }\n",
       "\n",
       "    .dataframe tbody tr th {\n",
       "        vertical-align: top;\n",
       "    }\n",
       "\n",
       "    .dataframe thead th {\n",
       "        text-align: right;\n",
       "    }\n",
       "</style>\n",
       "<table border=\"1\" class=\"dataframe\">\n",
       "  <thead>\n",
       "    <tr style=\"text-align: right;\">\n",
       "      <th></th>\n",
       "      <th>Year</th>\n",
       "      <th>Sales</th>\n",
       "      <th>Assets</th>\n",
       "      <th>Profits</th>\n",
       "      <th>Market Value</th>\n",
       "      <th>Sales Growth</th>\n",
       "      <th>Assets Growth</th>\n",
       "      <th>Profits Growth</th>\n",
       "      <th>Market Value Growth</th>\n",
       "    </tr>\n",
       "  </thead>\n",
       "  <tbody>\n",
       "    <tr>\n",
       "      <th>count</th>\n",
       "      <td>7021.000000</td>\n",
       "      <td>7.021000e+03</td>\n",
       "      <td>7.021000e+03</td>\n",
       "      <td>7021.000000</td>\n",
       "      <td>7.021000e+03</td>\n",
       "      <td>7021.000000</td>\n",
       "      <td>7021.000000</td>\n",
       "      <td>7021.000000</td>\n",
       "      <td>7021.000000</td>\n",
       "    </tr>\n",
       "    <tr>\n",
       "      <th>mean</th>\n",
       "      <td>2015.444524</td>\n",
       "      <td>7.449459e+04</td>\n",
       "      <td>3.380922e+05</td>\n",
       "      <td>5466.495371</td>\n",
       "      <td>9.504907e+04</td>\n",
       "      <td>27.501895</td>\n",
       "      <td>27.851808</td>\n",
       "      <td>54.033316</td>\n",
       "      <td>35.132825</td>\n",
       "    </tr>\n",
       "    <tr>\n",
       "      <th>std</th>\n",
       "      <td>3.970971</td>\n",
       "      <td>1.637836e+05</td>\n",
       "      <td>1.394411e+06</td>\n",
       "      <td>16041.276553</td>\n",
       "      <td>2.692136e+05</td>\n",
       "      <td>427.315677</td>\n",
       "      <td>300.863603</td>\n",
       "      <td>1437.343007</td>\n",
       "      <td>503.596190</td>\n",
       "    </tr>\n",
       "    <tr>\n",
       "      <th>min</th>\n",
       "      <td>2009.000000</td>\n",
       "      <td>-6.620000e+03</td>\n",
       "      <td>8.520000e+02</td>\n",
       "      <td>-92720.000000</td>\n",
       "      <td>1.790000e+02</td>\n",
       "      <td>-425.185185</td>\n",
       "      <td>-99.769076</td>\n",
       "      <td>-30150.000000</td>\n",
       "      <td>-98.703219</td>\n",
       "    </tr>\n",
       "    <tr>\n",
       "      <th>25%</th>\n",
       "      <td>2012.000000</td>\n",
       "      <td>8.270000e+03</td>\n",
       "      <td>1.606300e+04</td>\n",
       "      <td>527.000000</td>\n",
       "      <td>1.035100e+04</td>\n",
       "      <td>-7.163573</td>\n",
       "      <td>-3.584977</td>\n",
       "      <td>-33.333333</td>\n",
       "      <td>-17.812497</td>\n",
       "    </tr>\n",
       "    <tr>\n",
       "      <th>50%</th>\n",
       "      <td>2015.000000</td>\n",
       "      <td>2.066800e+04</td>\n",
       "      <td>4.501300e+04</td>\n",
       "      <td>1360.000000</td>\n",
       "      <td>2.561800e+04</td>\n",
       "      <td>3.256265</td>\n",
       "      <td>4.838710</td>\n",
       "      <td>1.290323</td>\n",
       "      <td>4.057089</td>\n",
       "    </tr>\n",
       "    <tr>\n",
       "      <th>75%</th>\n",
       "      <td>2019.000000</td>\n",
       "      <td>6.620800e+04</td>\n",
       "      <td>1.647860e+05</td>\n",
       "      <td>4303.000000</td>\n",
       "      <td>7.198200e+04</td>\n",
       "      <td>16.459360</td>\n",
       "      <td>16.552982</td>\n",
       "      <td>33.138736</td>\n",
       "      <td>29.382895</td>\n",
       "    </tr>\n",
       "    <tr>\n",
       "      <th>max</th>\n",
       "      <td>2022.000000</td>\n",
       "      <td>2.466591e+06</td>\n",
       "      <td>3.616723e+07</td>\n",
       "      <td>296065.000000</td>\n",
       "      <td>7.091153e+06</td>\n",
       "      <td>29378.125000</td>\n",
       "      <td>14993.617670</td>\n",
       "      <td>58433.333330</td>\n",
       "      <td>35079.891420</td>\n",
       "    </tr>\n",
       "  </tbody>\n",
       "</table>\n",
       "</div>"
      ],
      "text/plain": [
       "              Year         Sales        Assets        Profits  Market Value  \\\n",
       "count  7021.000000  7.021000e+03  7.021000e+03    7021.000000  7.021000e+03   \n",
       "mean   2015.444524  7.449459e+04  3.380922e+05    5466.495371  9.504907e+04   \n",
       "std       3.970971  1.637836e+05  1.394411e+06   16041.276553  2.692136e+05   \n",
       "min    2009.000000 -6.620000e+03  8.520000e+02  -92720.000000  1.790000e+02   \n",
       "25%    2012.000000  8.270000e+03  1.606300e+04     527.000000  1.035100e+04   \n",
       "50%    2015.000000  2.066800e+04  4.501300e+04    1360.000000  2.561800e+04   \n",
       "75%    2019.000000  6.620800e+04  1.647860e+05    4303.000000  7.198200e+04   \n",
       "max    2022.000000  2.466591e+06  3.616723e+07  296065.000000  7.091153e+06   \n",
       "\n",
       "       Sales Growth  Assets Growth  Profits Growth  Market Value Growth  \n",
       "count   7021.000000    7021.000000     7021.000000          7021.000000  \n",
       "mean      27.501895      27.851808       54.033316            35.132825  \n",
       "std      427.315677     300.863603     1437.343007           503.596190  \n",
       "min     -425.185185     -99.769076   -30150.000000           -98.703219  \n",
       "25%       -7.163573      -3.584977      -33.333333           -17.812497  \n",
       "50%        3.256265       4.838710        1.290323             4.057089  \n",
       "75%       16.459360      16.552982       33.138736            29.382895  \n",
       "max    29378.125000   14993.617670    58433.333330         35079.891420  "
      ]
     },
     "execution_count": 11,
     "metadata": {},
     "output_type": "execute_result"
    }
   ],
   "source": [
    "df.describe()"
   ]
  },
  {
   "cell_type": "markdown",
   "id": "7f58f7a4",
   "metadata": {},
   "source": [
    "## HYPOTHESES TESTING\n",
    "** **"
   ]
  },
  {
   "cell_type": "markdown",
   "id": "faeb9be0",
   "metadata": {},
   "source": [
    "###  A) Hypothesis 1: _An increase in revenue will result in a corresponding increase in profit._\n",
    "\n",
    "`VARIABLES TO BE TESTED:`\n",
    "\n",
    "X = Sales Growth  :  y = Profit Growth\n",
    "\n",
    "#### DATA PREP FOR REGRESSION ANALYSIS"
   ]
  },
  {
   "cell_type": "code",
   "execution_count": 12,
   "id": "45cb96cf",
   "metadata": {},
   "outputs": [
    {
     "data": {
      "image/png": "[encoded data removed]",
      "text/plain": [
       "<Figure size 640x480 with 1 Axes>"
      ]
     },
     "metadata": {},
     "output_type": "display_data"
    }
   ],
   "source": [
    "# Creating a  scatterplot using matplotlib for another look at how the chosen variables plot against each other.\n",
    "\n",
    "df.plot(x = 'Sales Growth', y = 'Profits Growth', style = 'o')\n",
    "plt.title('Sales vs Profit')  \n",
    "plt.xlabel('Sales Growth')  \n",
    "plt.ylabel('Profits Growth')  \n",
    "plt.show()"
   ]
  },
  {
   "cell_type": "code",
   "execution_count": 13,
   "id": "1d1072b2",
   "metadata": {},
   "outputs": [],
   "source": [
    "# Reshape the variables and put them into separate objects.\n",
    "\n",
    "X = df['Sales Growth'].values.reshape(-1,1)\n",
    "y = df['Profits Growth'].values.reshape(-1,1)"
   ]
  },
  {
   "cell_type": "code",
   "execution_count": 14,
   "id": "d1411643",
   "metadata": {},
   "outputs": [
    {
     "data": {
      "text/plain": [
       "array([[ 9.32346553],\n",
       "       [14.39205955],\n",
       "       [52.44897959],\n",
       "       ...,\n",
       "       [34.2074338 ],\n",
       "       [23.53900839],\n",
       "       [ 6.38340989]])"
      ]
     },
     "execution_count": 14,
     "metadata": {},
     "output_type": "execute_result"
    }
   ],
   "source": [
    "X"
   ]
  },
  {
   "cell_type": "code",
   "execution_count": 15,
   "id": "8452ae56",
   "metadata": {},
   "outputs": [
    {
     "data": {
      "text/plain": [
       "array([[ -10.70297657],\n",
       "       [ -46.51162791],\n",
       "       [ 111.627907  ],\n",
       "       ...,\n",
       "       [-332.6759582 ],\n",
       "       [  17.01706835],\n",
       "       [  27.00631199]])"
      ]
     },
     "execution_count": 15,
     "metadata": {},
     "output_type": "execute_result"
    }
   ],
   "source": [
    "y"
   ]
  },
  {
   "cell_type": "code",
   "execution_count": 16,
   "id": "ec68e3d9",
   "metadata": {},
   "outputs": [],
   "source": [
    "# Splitting data into a training set and a test set with the use of test_train_split\n",
    "\n",
    "X_train, X_test, y_train, y_test = train_test_split(X, y, test_size = 0.3, random_state = 0)"
   ]
  },
  {
   "cell_type": "markdown",
   "id": "295da8cc",
   "metadata": {},
   "source": [
    "#### REGRESSION ANALYSIS: \n",
    "\n",
    "**_CONDUCT TEST SET PREDICTION MODEL_**"
   ]
  },
  {
   "cell_type": "code",
   "execution_count": 17,
   "id": "6ca8fe2c",
   "metadata": {},
   "outputs": [],
   "source": [
    "# Creating a regression object\n",
    "\n",
    "regression1 = LinearRegression()"
   ]
  },
  {
   "cell_type": "code",
   "execution_count": 18,
   "id": "1ff7f008",
   "metadata": {},
   "outputs": [
    {
     "data": {
      "text/plain": [
       "LinearRegression()"
      ]
     },
     "execution_count": 18,
     "metadata": {},
     "output_type": "execute_result"
    }
   ],
   "source": [
    "# Fit the regression object onto the training set\n",
    "\n",
    "regression1.fit(X_train, y_train)"
   ]
  },
  {
   "cell_type": "code",
   "execution_count": 19,
   "id": "140ef636",
   "metadata": {},
   "outputs": [],
   "source": [
    "# Predict the values of y using X.\n",
    "\n",
    "y_predicted = regression1.predict(X_test)"
   ]
  },
  {
   "cell_type": "code",
   "execution_count": 20,
   "id": "fe23fa87",
   "metadata": {},
   "outputs": [
    {
     "data": {
      "image/png": "[encoded data removed]",
      "text/plain": [
       "<Figure size 640x480 with 1 Axes>"
      ]
     },
     "metadata": {},
     "output_type": "display_data"
    }
   ],
   "source": [
    "# Create a plot that shows the regression line from the model on the test set.\n",
    "\n",
    "plot_test = plt\n",
    "plot_test.scatter(X_test, y_test, color = 'grey', s = 15)\n",
    "plot_test.plot(X_test, y_predicted, color = 'red', linewidth = 3)\n",
    "plot_test.title('Sales vs Profit (Test set)')\n",
    "plot_test.xlabel('Sales Growth')\n",
    "plot_test.ylabel('Profit Growth')\n",
    "plot_test.show()"
   ]
  },
  {
   "cell_type": "code",
   "execution_count": 21,
   "id": "93984ff1",
   "metadata": {},
   "outputs": [],
   "source": [
    "# Create objects that contain the model summary statistics\n",
    "\n",
    "rmse = mean_squared_error(y_test, y_predicted) \n",
    "r1 = r2_score(y_test, y_predicted)"
   ]
  },
  {
   "cell_type": "code",
   "execution_count": 22,
   "id": "9d7b433d",
   "metadata": {},
   "outputs": [
    {
     "name": "stdout",
     "output_type": "stream",
     "text": [
      "Slope: [[2.2093211]]\n",
      "Mean squared error:  3172430.8463232955\n",
      "R2 score:  -4.203090133729778\n"
     ]
    }
   ],
   "source": [
    "# Print the model summary statistics. This is where you evaluate the performance of the model.\n",
    "\n",
    "print('Slope:' ,regression1.coef_)\n",
    "print('Mean squared error: ', rmse)\n",
    "print('R2 score: ', r1)"
   ]
  },
  {
   "cell_type": "markdown",
   "id": "0ca92b96",
   "metadata": {},
   "source": [
    "**NOTE:** \n",
    "The `RMSE` at 3172430.8463232955 suggest that the data points may have relatively small errors on average, however the `R3 score` at -4.203090133729778 indicates that the model prediction may not fully capture fully variablility in the output."
   ]
  },
  {
   "cell_type": "code",
   "execution_count": 23,
   "id": "38d3103f",
   "metadata": {},
   "outputs": [
    {
     "data": {
      "text/plain": [
       "array([[  77.59307761],\n",
       "       [  13.78422593],\n",
       "       [  69.29652126],\n",
       "       ...,\n",
       "       [1146.946462  ],\n",
       "       [  58.09071162],\n",
       "       [ -59.4837342 ]])"
      ]
     },
     "execution_count": 23,
     "metadata": {},
     "output_type": "execute_result"
    }
   ],
   "source": [
    "y_predicted"
   ]
  },
  {
   "cell_type": "code",
   "execution_count": 24,
   "id": "e35f9276",
   "metadata": {},
   "outputs": [
    {
     "data": {
      "text/html": [
       "<div>\n",
       "<style scoped>\n",
       "    .dataframe tbody tr th:only-of-type {\n",
       "        vertical-align: middle;\n",
       "    }\n",
       "\n",
       "    .dataframe tbody tr th {\n",
       "        vertical-align: top;\n",
       "    }\n",
       "\n",
       "    .dataframe thead th {\n",
       "        text-align: right;\n",
       "    }\n",
       "</style>\n",
       "<table border=\"1\" class=\"dataframe\">\n",
       "  <thead>\n",
       "    <tr style=\"text-align: right;\">\n",
       "      <th></th>\n",
       "      <th>Actual</th>\n",
       "      <th>Predicted</th>\n",
       "    </tr>\n",
       "  </thead>\n",
       "  <tbody>\n",
       "    <tr>\n",
       "      <th>0</th>\n",
       "      <td>66.751918</td>\n",
       "      <td>77.593078</td>\n",
       "    </tr>\n",
       "    <tr>\n",
       "      <th>1</th>\n",
       "      <td>-9.582389</td>\n",
       "      <td>13.784226</td>\n",
       "    </tr>\n",
       "    <tr>\n",
       "      <th>2</th>\n",
       "      <td>66.815145</td>\n",
       "      <td>69.296521</td>\n",
       "    </tr>\n",
       "    <tr>\n",
       "      <th>3</th>\n",
       "      <td>-14.313346</td>\n",
       "      <td>21.410754</td>\n",
       "    </tr>\n",
       "    <tr>\n",
       "      <th>4</th>\n",
       "      <td>-5.068226</td>\n",
       "      <td>43.593297</td>\n",
       "    </tr>\n",
       "    <tr>\n",
       "      <th>5</th>\n",
       "      <td>166.619916</td>\n",
       "      <td>277.065965</td>\n",
       "    </tr>\n",
       "    <tr>\n",
       "      <th>6</th>\n",
       "      <td>-92.187500</td>\n",
       "      <td>-159.875532</td>\n",
       "    </tr>\n",
       "    <tr>\n",
       "      <th>7</th>\n",
       "      <td>-44.415584</td>\n",
       "      <td>-48.576272</td>\n",
       "    </tr>\n",
       "    <tr>\n",
       "      <th>8</th>\n",
       "      <td>-22.344322</td>\n",
       "      <td>20.167856</td>\n",
       "    </tr>\n",
       "    <tr>\n",
       "      <th>9</th>\n",
       "      <td>-96.000000</td>\n",
       "      <td>53.607900</td>\n",
       "    </tr>\n",
       "    <tr>\n",
       "      <th>10</th>\n",
       "      <td>0.838574</td>\n",
       "      <td>28.648245</td>\n",
       "    </tr>\n",
       "    <tr>\n",
       "      <th>11</th>\n",
       "      <td>-8.883249</td>\n",
       "      <td>76.524234</td>\n",
       "    </tr>\n",
       "    <tr>\n",
       "      <th>12</th>\n",
       "      <td>0.075988</td>\n",
       "      <td>30.847686</td>\n",
       "    </tr>\n",
       "    <tr>\n",
       "      <th>13</th>\n",
       "      <td>-89.667298</td>\n",
       "      <td>37.609716</td>\n",
       "    </tr>\n",
       "    <tr>\n",
       "      <th>14</th>\n",
       "      <td>-0.967742</td>\n",
       "      <td>3340.853694</td>\n",
       "    </tr>\n",
       "    <tr>\n",
       "      <th>15</th>\n",
       "      <td>33.123845</td>\n",
       "      <td>65.689584</td>\n",
       "    </tr>\n",
       "    <tr>\n",
       "      <th>16</th>\n",
       "      <td>-23.535354</td>\n",
       "      <td>30.573226</td>\n",
       "    </tr>\n",
       "    <tr>\n",
       "      <th>17</th>\n",
       "      <td>50.213980</td>\n",
       "      <td>202.034418</td>\n",
       "    </tr>\n",
       "    <tr>\n",
       "      <th>18</th>\n",
       "      <td>-50.099536</td>\n",
       "      <td>45.980890</td>\n",
       "    </tr>\n",
       "    <tr>\n",
       "      <th>19</th>\n",
       "      <td>-15.603113</td>\n",
       "      <td>8.846789</td>\n",
       "    </tr>\n",
       "    <tr>\n",
       "      <th>20</th>\n",
       "      <td>-44.415415</td>\n",
       "      <td>38.380017</td>\n",
       "    </tr>\n",
       "    <tr>\n",
       "      <th>21</th>\n",
       "      <td>53.781513</td>\n",
       "      <td>25.494232</td>\n",
       "    </tr>\n",
       "    <tr>\n",
       "      <th>22</th>\n",
       "      <td>-74.158523</td>\n",
       "      <td>85.559182</td>\n",
       "    </tr>\n",
       "    <tr>\n",
       "      <th>23</th>\n",
       "      <td>36.485520</td>\n",
       "      <td>42.889995</td>\n",
       "    </tr>\n",
       "    <tr>\n",
       "      <th>24</th>\n",
       "      <td>31.949458</td>\n",
       "      <td>240.524085</td>\n",
       "    </tr>\n",
       "    <tr>\n",
       "      <th>25</th>\n",
       "      <td>-67.500000</td>\n",
       "      <td>155.718165</td>\n",
       "    </tr>\n",
       "    <tr>\n",
       "      <th>26</th>\n",
       "      <td>79.940120</td>\n",
       "      <td>43.526768</td>\n",
       "    </tr>\n",
       "    <tr>\n",
       "      <th>27</th>\n",
       "      <td>-17.603912</td>\n",
       "      <td>16.213831</td>\n",
       "    </tr>\n",
       "    <tr>\n",
       "      <th>28</th>\n",
       "      <td>7.692308</td>\n",
       "      <td>42.693560</td>\n",
       "    </tr>\n",
       "    <tr>\n",
       "      <th>29</th>\n",
       "      <td>-545.526524</td>\n",
       "      <td>17.116890</td>\n",
       "    </tr>\n",
       "  </tbody>\n",
       "</table>\n",
       "</div>"
      ],
      "text/plain": [
       "        Actual    Predicted\n",
       "0    66.751918    77.593078\n",
       "1    -9.582389    13.784226\n",
       "2    66.815145    69.296521\n",
       "3   -14.313346    21.410754\n",
       "4    -5.068226    43.593297\n",
       "5   166.619916   277.065965\n",
       "6   -92.187500  -159.875532\n",
       "7   -44.415584   -48.576272\n",
       "8   -22.344322    20.167856\n",
       "9   -96.000000    53.607900\n",
       "10    0.838574    28.648245\n",
       "11   -8.883249    76.524234\n",
       "12    0.075988    30.847686\n",
       "13  -89.667298    37.609716\n",
       "14   -0.967742  3340.853694\n",
       "15   33.123845    65.689584\n",
       "16  -23.535354    30.573226\n",
       "17   50.213980   202.034418\n",
       "18  -50.099536    45.980890\n",
       "19  -15.603113     8.846789\n",
       "20  -44.415415    38.380017\n",
       "21   53.781513    25.494232\n",
       "22  -74.158523    85.559182\n",
       "23   36.485520    42.889995\n",
       "24   31.949458   240.524085\n",
       "25  -67.500000   155.718165\n",
       "26   79.940120    43.526768\n",
       "27  -17.603912    16.213831\n",
       "28    7.692308    42.693560\n",
       "29 -545.526524    17.116890"
      ]
     },
     "execution_count": 24,
     "metadata": {},
     "output_type": "execute_result"
    }
   ],
   "source": [
    "# Create a dataframe comparing the actual and predicted values of y\n",
    "\n",
    "data = pd.DataFrame({'Actual': y_test.flatten(), 'Predicted': y_predicted.flatten()})\n",
    "data.head(30)"
   ]
  },
  {
   "cell_type": "markdown",
   "id": "08cd61b3",
   "metadata": {},
   "source": [
    "**_COMPARISON OF TEST SET TO ACTUAL PREDICTION MODEL_**"
   ]
  },
  {
   "cell_type": "code",
   "execution_count": 25,
   "id": "2754a5de",
   "metadata": {},
   "outputs": [],
   "source": [
    "# Predict\n",
    "# This is predicting X_train!\n",
    "\n",
    "y_predicted_train = regression1.predict(X_train) "
   ]
  },
  {
   "cell_type": "code",
   "execution_count": 26,
   "id": "f399f6b2",
   "metadata": {},
   "outputs": [],
   "source": [
    "# Create objects that contain the model summary statistics\n",
    "\n",
    "rmse = mean_squared_error(y_train, y_predicted_train)\n",
    "r1 = r2_score(y_train, y_predicted_train)"
   ]
  },
  {
   "cell_type": "code",
   "execution_count": 27,
   "id": "11ee09cf",
   "metadata": {},
   "outputs": [
    {
     "name": "stdout",
     "output_type": "stream",
     "text": [
      "Slope: [[2.2093211]]\n",
      "Mean squared error:  2539816.125768975\n",
      "R2 score:  0.05536484230874272\n"
     ]
    }
   ],
   "source": [
    "# Print the model summary statistics. Evaluating the performance of the model.\n",
    "\n",
    "print('Slope:' ,regression1.coef_)\n",
    "print('Mean squared error: ', rmse)\n",
    "print('R2 score: ', r1)"
   ]
  },
  {
   "cell_type": "code",
   "execution_count": 28,
   "id": "c75720ee",
   "metadata": {},
   "outputs": [
    {
     "data": {
      "image/png": "[encoded data removed]",
      "text/plain": [
       "<Figure size 640x480 with 1 Axes>"
      ]
     },
     "metadata": {},
     "output_type": "display_data"
    }
   ],
   "source": [
    "# Visualizing the training set results.\n",
    "\n",
    "plot_test = plt\n",
    "plot_test.scatter(X_train, y_train, color ='seagreen', s = 15)\n",
    "plot_test.plot(X_train, y_predicted_train, color = 'red', linewidth = 3)\n",
    "plot_test.title('Sales vs Profit (Train set)')\n",
    "plot_test.xlabel('Sales Growth')\n",
    "plot_test.ylabel('Profit Growth')\n",
    "plot_test.show()"
   ]
  },
  {
   "cell_type": "markdown",
   "id": "5becd1ec",
   "metadata": {},
   "source": [
    "**INTERPRETATION:** The model's noticeable improvements, resulting from parameter adjustments, are evident compared to the test set. Lower MSE values signify enhanced performance, indicating smaller prediction errors on average. Moreover, the significantly lower R2 score indicates that the model captures only around 5.5% of the variability in the output variable, indicating a `poor fit` to the data."
   ]
  },
  {
   "cell_type": "markdown",
   "id": "edcb9719",
   "metadata": {},
   "source": [
    "****\n",
    "###  b) Hypothesis 2: _The industries performances has no significant difference before and during pandemic._\n",
    "\n",
    "#### DATA PREP FOR REGRESSION ANALYSIS"
   ]
  },
  {
   "cell_type": "markdown",
   "id": "b6f66802",
   "metadata": {},
   "source": [
    "**YEAR vs SALES**\n",
    "\n",
    "`VARIABLES TO BE TESTED:`\n",
    "\n",
    "X2 = Year  :  y2 = Sales Growth"
   ]
  },
  {
   "cell_type": "code",
   "execution_count": 29,
   "id": "b1f3b7f2",
   "metadata": {},
   "outputs": [
    {
     "data": {
      "image/png": "[encoded data removed]",
      "text/plain": [
       "<Figure size 640x480 with 1 Axes>"
      ]
     },
     "metadata": {},
     "output_type": "display_data"
    }
   ],
   "source": [
    "# Creating a  scatterplot using matplotlib for another look at how the chosen variables plot against each other.\n",
    "\n",
    "df.plot(x = 'Year', y = 'Sales Growth', style = 'o')\n",
    "plt.title('Yearly Sales Growth')  \n",
    "plt.xlabel('Year')  \n",
    "plt.ylabel('Sales Growth')  \n",
    "plt.show()"
   ]
  },
  {
   "cell_type": "code",
   "execution_count": 30,
   "id": "a5a10ea8",
   "metadata": {},
   "outputs": [],
   "source": [
    "# Reshape the variables and put them into separate objects.\n",
    "\n",
    "X2 = df['Year'].values.reshape(-1,1)\n",
    "y2 = df['Sales Growth'].values.reshape(-1,1)"
   ]
  },
  {
   "cell_type": "code",
   "execution_count": 31,
   "id": "ac199a6e",
   "metadata": {},
   "outputs": [
    {
     "data": {
      "text/plain": [
       "array([[2009],\n",
       "       [2009],\n",
       "       [2009],\n",
       "       ...,\n",
       "       [2022],\n",
       "       [2022],\n",
       "       [2022]], dtype=int64)"
      ]
     },
     "execution_count": 31,
     "metadata": {},
     "output_type": "execute_result"
    }
   ],
   "source": [
    "X2"
   ]
  },
  {
   "cell_type": "code",
   "execution_count": 32,
   "id": "d978d2e2",
   "metadata": {},
   "outputs": [
    {
     "data": {
      "text/plain": [
       "array([[ 9.32346553],\n",
       "       [14.39205955],\n",
       "       [52.44897959],\n",
       "       ...,\n",
       "       [34.2074338 ],\n",
       "       [23.53900839],\n",
       "       [ 6.38340989]])"
      ]
     },
     "execution_count": 32,
     "metadata": {},
     "output_type": "execute_result"
    }
   ],
   "source": [
    "y2"
   ]
  },
  {
   "cell_type": "code",
   "execution_count": 33,
   "id": "d0fea75d",
   "metadata": {},
   "outputs": [],
   "source": [
    "# Splitting data into a training set and a test set with the use of test_train_split\n",
    "\n",
    "X2_train, X2_test, y2_train, y2_test = train_test_split(X2, y2, test_size = 0.3, random_state = 0)"
   ]
  },
  {
   "cell_type": "code",
   "execution_count": 34,
   "id": "f60204f9",
   "metadata": {},
   "outputs": [],
   "source": [
    "# Regression Analysis\n",
    "# Creating a regression object\n",
    "\n",
    "regression2 = LinearRegression()"
   ]
  },
  {
   "cell_type": "code",
   "execution_count": 35,
   "id": "353dc807",
   "metadata": {},
   "outputs": [
    {
     "data": {
      "text/plain": [
       "LinearRegression()"
      ]
     },
     "execution_count": 35,
     "metadata": {},
     "output_type": "execute_result"
    }
   ],
   "source": [
    "# Fit the regression object onto the training set\n",
    "\n",
    "regression2.fit(X2_train, y2_train)"
   ]
  },
  {
   "cell_type": "code",
   "execution_count": 36,
   "id": "166455c6",
   "metadata": {},
   "outputs": [],
   "source": [
    "# Predict the values of y using X.\n",
    "\n",
    "y2_predicted = regression2.predict(X2_test)"
   ]
  },
  {
   "cell_type": "code",
   "execution_count": 37,
   "id": "ffce033b",
   "metadata": {},
   "outputs": [
    {
     "data": {
      "image/png": "[encoded data removed]",
      "text/plain": [
       "<Figure size 640x480 with 1 Axes>"
      ]
     },
     "metadata": {},
     "output_type": "display_data"
    }
   ],
   "source": [
    "# Create a plot that shows the regression line from the model on the test set.\n",
    "\n",
    "plot_test = plt\n",
    "plot_test.scatter(X2_test, y2_test, color = 'grey', s = 15)\n",
    "plot_test.plot(X2_test, y2_predicted, color = 'red', linewidth = 3)\n",
    "plt.title('Yearly Sales Growth (Test set)')  \n",
    "plt.xlabel('Year')  \n",
    "plt.ylabel('Sales Growth')  \n",
    "plt.show()"
   ]
  },
  {
   "cell_type": "code",
   "execution_count": 38,
   "id": "1e7eedbd",
   "metadata": {},
   "outputs": [],
   "source": [
    "# Create objects that contain the model summary statistics\n",
    "\n",
    "rmse2 = mean_squared_error(y2_test, y2_predicted) \n",
    "r2 = r2_score(y2_test, y2_predicted)"
   ]
  },
  {
   "cell_type": "code",
   "execution_count": 39,
   "id": "9c7e39d5",
   "metadata": {},
   "outputs": [
    {
     "name": "stdout",
     "output_type": "stream",
     "text": [
      "Slope: [[0.08710966]]\n",
      "Mean squared error:  537380.974846612\n",
      "R2 score:  -0.0008436573363206357\n"
     ]
    }
   ],
   "source": [
    "# Print the model summary statistics. This is where you evaluate the performance of the model.\n",
    "\n",
    "print('Slope:' ,regression2.coef_)\n",
    "print('Mean squared error: ', rmse2)\n",
    "print('R2 score: ', r2)"
   ]
  },
  {
   "cell_type": "markdown",
   "id": "a6b30289",
   "metadata": {},
   "source": [
    "**NOTE:** With results of  `large mean square error` and `low R2 score`, the performance of the model can be considered relatively poor."
   ]
  },
  {
   "cell_type": "code",
   "execution_count": 40,
   "id": "65e21667",
   "metadata": {},
   "outputs": [
    {
     "data": {
      "text/plain": [
       "array([[20.78503308],\n",
       "       [20.95925239],\n",
       "       [20.78503308],\n",
       "       ...,\n",
       "       [20.61081377],\n",
       "       [20.52370411],\n",
       "       [21.1334717 ]])"
      ]
     },
     "execution_count": 40,
     "metadata": {},
     "output_type": "execute_result"
    }
   ],
   "source": [
    "y2_predicted"
   ]
  },
  {
   "cell_type": "code",
   "execution_count": 41,
   "id": "2a5d6821",
   "metadata": {},
   "outputs": [
    {
     "data": {
      "text/html": [
       "<div>\n",
       "<style scoped>\n",
       "    .dataframe tbody tr th:only-of-type {\n",
       "        vertical-align: middle;\n",
       "    }\n",
       "\n",
       "    .dataframe tbody tr th {\n",
       "        vertical-align: top;\n",
       "    }\n",
       "\n",
       "    .dataframe thead th {\n",
       "        text-align: right;\n",
       "    }\n",
       "</style>\n",
       "<table border=\"1\" class=\"dataframe\">\n",
       "  <thead>\n",
       "    <tr style=\"text-align: right;\">\n",
       "      <th></th>\n",
       "      <th>Actual</th>\n",
       "      <th>Predicted</th>\n",
       "    </tr>\n",
       "  </thead>\n",
       "  <tbody>\n",
       "    <tr>\n",
       "      <th>0</th>\n",
       "      <td>22.957746</td>\n",
       "      <td>20.785033</td>\n",
       "    </tr>\n",
       "    <tr>\n",
       "      <th>1</th>\n",
       "      <td>-5.923909</td>\n",
       "      <td>20.959252</td>\n",
       "    </tr>\n",
       "    <tr>\n",
       "      <th>2</th>\n",
       "      <td>19.202495</td>\n",
       "      <td>20.785033</td>\n",
       "    </tr>\n",
       "    <tr>\n",
       "      <th>3</th>\n",
       "      <td>-2.471931</td>\n",
       "      <td>21.046362</td>\n",
       "    </tr>\n",
       "    <tr>\n",
       "      <th>4</th>\n",
       "      <td>7.568503</td>\n",
       "      <td>20.959252</td>\n",
       "    </tr>\n",
       "    <tr>\n",
       "      <th>5</th>\n",
       "      <td>113.244707</td>\n",
       "      <td>21.656130</td>\n",
       "    </tr>\n",
       "    <tr>\n",
       "      <th>6</th>\n",
       "      <td>-84.527132</td>\n",
       "      <td>21.481910</td>\n",
       "    </tr>\n",
       "    <tr>\n",
       "      <th>7</th>\n",
       "      <td>-34.150000</td>\n",
       "      <td>20.697923</td>\n",
       "    </tr>\n",
       "    <tr>\n",
       "      <th>8</th>\n",
       "      <td>-3.034501</td>\n",
       "      <td>21.220581</td>\n",
       "    </tr>\n",
       "    <tr>\n",
       "      <th>9</th>\n",
       "      <td>12.101390</td>\n",
       "      <td>20.610814</td>\n",
       "    </tr>\n",
       "    <tr>\n",
       "      <th>10</th>\n",
       "      <td>0.803958</td>\n",
       "      <td>21.220581</td>\n",
       "    </tr>\n",
       "    <tr>\n",
       "      <th>11</th>\n",
       "      <td>22.473958</td>\n",
       "      <td>21.307691</td>\n",
       "    </tr>\n",
       "    <tr>\n",
       "      <th>12</th>\n",
       "      <td>1.799486</td>\n",
       "      <td>21.394801</td>\n",
       "    </tr>\n",
       "    <tr>\n",
       "      <th>13</th>\n",
       "      <td>4.860168</td>\n",
       "      <td>21.481910</td>\n",
       "    </tr>\n",
       "    <tr>\n",
       "      <th>14</th>\n",
       "      <td>1500.000000</td>\n",
       "      <td>21.133472</td>\n",
       "    </tr>\n",
       "    <tr>\n",
       "      <th>15</th>\n",
       "      <td>17.569895</td>\n",
       "      <td>21.307691</td>\n",
       "    </tr>\n",
       "    <tr>\n",
       "      <th>16</th>\n",
       "      <td>1.675258</td>\n",
       "      <td>20.697923</td>\n",
       "    </tr>\n",
       "    <tr>\n",
       "      <th>17</th>\n",
       "      <td>79.283348</td>\n",
       "      <td>20.785033</td>\n",
       "    </tr>\n",
       "    <tr>\n",
       "      <th>18</th>\n",
       "      <td>8.649194</td>\n",
       "      <td>20.785033</td>\n",
       "    </tr>\n",
       "    <tr>\n",
       "      <th>19</th>\n",
       "      <td>-8.158730</td>\n",
       "      <td>20.785033</td>\n",
       "    </tr>\n",
       "    <tr>\n",
       "      <th>20</th>\n",
       "      <td>5.208828</td>\n",
       "      <td>20.959252</td>\n",
       "    </tr>\n",
       "    <tr>\n",
       "      <th>21</th>\n",
       "      <td>-0.623636</td>\n",
       "      <td>20.523704</td>\n",
       "    </tr>\n",
       "    <tr>\n",
       "      <th>22</th>\n",
       "      <td>26.563426</td>\n",
       "      <td>21.394801</td>\n",
       "    </tr>\n",
       "    <tr>\n",
       "      <th>23</th>\n",
       "      <td>7.250169</td>\n",
       "      <td>21.569020</td>\n",
       "    </tr>\n",
       "    <tr>\n",
       "      <th>24</th>\n",
       "      <td>96.704839</td>\n",
       "      <td>21.220581</td>\n",
       "    </tr>\n",
       "    <tr>\n",
       "      <th>25</th>\n",
       "      <td>58.319328</td>\n",
       "      <td>20.610814</td>\n",
       "    </tr>\n",
       "    <tr>\n",
       "      <th>26</th>\n",
       "      <td>7.538390</td>\n",
       "      <td>21.220581</td>\n",
       "    </tr>\n",
       "    <tr>\n",
       "      <th>27</th>\n",
       "      <td>-4.824203</td>\n",
       "      <td>21.133472</td>\n",
       "    </tr>\n",
       "    <tr>\n",
       "      <th>28</th>\n",
       "      <td>7.161257</td>\n",
       "      <td>21.481910</td>\n",
       "    </tr>\n",
       "    <tr>\n",
       "      <th>29</th>\n",
       "      <td>-4.415453</td>\n",
       "      <td>20.785033</td>\n",
       "    </tr>\n",
       "  </tbody>\n",
       "</table>\n",
       "</div>"
      ],
      "text/plain": [
       "         Actual  Predicted\n",
       "0     22.957746  20.785033\n",
       "1     -5.923909  20.959252\n",
       "2     19.202495  20.785033\n",
       "3     -2.471931  21.046362\n",
       "4      7.568503  20.959252\n",
       "5    113.244707  21.656130\n",
       "6    -84.527132  21.481910\n",
       "7    -34.150000  20.697923\n",
       "8     -3.034501  21.220581\n",
       "9     12.101390  20.610814\n",
       "10     0.803958  21.220581\n",
       "11    22.473958  21.307691\n",
       "12     1.799486  21.394801\n",
       "13     4.860168  21.481910\n",
       "14  1500.000000  21.133472\n",
       "15    17.569895  21.307691\n",
       "16     1.675258  20.697923\n",
       "17    79.283348  20.785033\n",
       "18     8.649194  20.785033\n",
       "19    -8.158730  20.785033\n",
       "20     5.208828  20.959252\n",
       "21    -0.623636  20.523704\n",
       "22    26.563426  21.394801\n",
       "23     7.250169  21.569020\n",
       "24    96.704839  21.220581\n",
       "25    58.319328  20.610814\n",
       "26     7.538390  21.220581\n",
       "27    -4.824203  21.133472\n",
       "28     7.161257  21.481910\n",
       "29    -4.415453  20.785033"
      ]
     },
     "execution_count": 41,
     "metadata": {},
     "output_type": "execute_result"
    }
   ],
   "source": [
    "# Create a dataframe comparing the actual and predicted values of y\n",
    "\n",
    "data2 = pd.DataFrame({'Actual': y2_test.flatten(), 'Predicted': y2_predicted.flatten()})\n",
    "data2.head(30)"
   ]
  },
  {
   "cell_type": "code",
   "execution_count": 42,
   "id": "09b9b211",
   "metadata": {},
   "outputs": [],
   "source": [
    "# Predict\n",
    "# This is predicting X_train!\n",
    "\n",
    "y2_predicted_train = regression2.predict(X2_train) "
   ]
  },
  {
   "cell_type": "code",
   "execution_count": 43,
   "id": "5bc9f73b",
   "metadata": {},
   "outputs": [],
   "source": [
    "# Create objects that contain the model summary statistics\n",
    "\n",
    "rmse2 = mean_squared_error(y2_train, y2_predicted_train)\n",
    "r2b = r2_score(y2_train, y2_predicted_train)"
   ]
  },
  {
   "cell_type": "code",
   "execution_count": 44,
   "id": "047decd0",
   "metadata": {},
   "outputs": [
    {
     "name": "stdout",
     "output_type": "stream",
     "text": [
      "Slope: [[0.08710966]]\n",
      "Mean squared error:  30496.6998981591\n",
      "R2 score:  3.9413606685023694e-06\n"
     ]
    }
   ],
   "source": [
    "# Print the model summary statistics. Evaluating the performance of the model.\n",
    "\n",
    "print('Slope:' ,regression2.coef_)\n",
    "print('Mean squared error: ', rmse2)\n",
    "print('R2 score: ', r2b)"
   ]
  },
  {
   "cell_type": "code",
   "execution_count": 45,
   "id": "a81b9d56",
   "metadata": {},
   "outputs": [
    {
     "data": {
      "image/png": "[encoded data removed]",
      "text/plain": [
       "<Figure size 640x480 with 1 Axes>"
      ]
     },
     "metadata": {},
     "output_type": "display_data"
    }
   ],
   "source": [
    "# Visualizing the training set results.\n",
    "\n",
    "plot_test = plt\n",
    "plot_test.scatter(X2_train, y2_train, color ='seagreen', s = 15)\n",
    "plot_test.plot(X2_train, y2_predicted_train, color = 'red', linewidth = 3)\n",
    "plt.title('Yearly Sales Growth (Train set)')  \n",
    "plt.xlabel('Year')  \n",
    "plt.ylabel('Sales Growth')  \n",
    "plt.show()"
   ]
  },
  {
   "cell_type": "markdown",
   "id": "d1577364",
   "metadata": {},
   "source": [
    "**INTERPRETATION:** Overall, comparing these results, the previous model had better performance. It had a smaller mean squared error, indicating more accurate predictions, and a slightly higher R2 score, suggesting a slightly better fit to the data. However, it's important to note that `both sets of results indicate relatively poor performance overall`, and further improvements may be necessary to enhance the model's predictive capabilities."
   ]
  },
  {
   "cell_type": "markdown",
   "id": "928394d5",
   "metadata": {},
   "source": [
    "**YEAR vs. ASSETS GROWTH**\n",
    "\n",
    "_Assets measures the increase in the total value of assets owned by a company or industry, assuming the expansion of productive capacity and investment in physical resources. Referencing stockopedia: https://www.stockopedia.com/ratios/asset-growth-ttm-5122/_\n",
    "\n",
    "`VARIABLES TO BE TESTED:`\n",
    "\n",
    "X3 = Year  :  y3 = Assets"
   ]
  },
  {
   "cell_type": "code",
   "execution_count": 46,
   "id": "16f5708e",
   "metadata": {},
   "outputs": [
    {
     "data": {
      "image/png": "[encoded data removed]",
      "text/plain": [
       "<Figure size 640x480 with 1 Axes>"
      ]
     },
     "metadata": {},
     "output_type": "display_data"
    }
   ],
   "source": [
    "# Creating a  scatterplot using matplotlib for another look at how the chosen variables plot against each other.\n",
    "\n",
    "df.plot(x = 'Year', y = 'Assets Growth', style = 'o')\n",
    "plt.title('Yearly Assets Growth')  \n",
    "plt.xlabel('Year')  \n",
    "plt.ylabel('Assets Growth')  \n",
    "plt.show()"
   ]
  },
  {
   "cell_type": "code",
   "execution_count": 47,
   "id": "6e2c90bb",
   "metadata": {},
   "outputs": [],
   "source": [
    "# Reshape the variables and put them into separate objects.\n",
    "\n",
    "X3 = df['Year'].values.reshape(-1,1)\n",
    "y3 = df['Assets Growth'].values.reshape(-1,1)"
   ]
  },
  {
   "cell_type": "code",
   "execution_count": 48,
   "id": "e8585ad3",
   "metadata": {},
   "outputs": [
    {
     "data": {
      "text/plain": [
       "array([[2009],\n",
       "       [2009],\n",
       "       [2009],\n",
       "       ...,\n",
       "       [2022],\n",
       "       [2022],\n",
       "       [2022]], dtype=int64)"
      ]
     },
     "execution_count": 48,
     "metadata": {},
     "output_type": "execute_result"
    }
   ],
   "source": [
    "X3"
   ]
  },
  {
   "cell_type": "code",
   "execution_count": 49,
   "id": "b5964c89",
   "metadata": {},
   "outputs": [
    {
     "data": {
      "text/plain": [
       "array([[  6.31784759],\n",
       "       [ 12.5748503 ],\n",
       "       [131.8867925 ],\n",
       "       ...,\n",
       "       [  1.47529033],\n",
       "       [  8.30724613],\n",
       "       [ 15.58033775]])"
      ]
     },
     "execution_count": 49,
     "metadata": {},
     "output_type": "execute_result"
    }
   ],
   "source": [
    "y3"
   ]
  },
  {
   "cell_type": "code",
   "execution_count": 50,
   "id": "4d7f355b",
   "metadata": {},
   "outputs": [],
   "source": [
    "# Splitting data into a training set and a test set with the use of test_train_split\n",
    "\n",
    "X3_train, X3_test, y3_train, y3_test = train_test_split(X3, y3, test_size = 0.3, random_state = 0)"
   ]
  },
  {
   "cell_type": "code",
   "execution_count": 51,
   "id": "c2700200",
   "metadata": {},
   "outputs": [],
   "source": [
    "# Regression Analysis\n",
    "# Creating a regression object\n",
    "\n",
    "regression3 = LinearRegression()"
   ]
  },
  {
   "cell_type": "code",
   "execution_count": 52,
   "id": "6e90b37f",
   "metadata": {},
   "outputs": [
    {
     "data": {
      "text/plain": [
       "LinearRegression()"
      ]
     },
     "execution_count": 52,
     "metadata": {},
     "output_type": "execute_result"
    }
   ],
   "source": [
    "# Fit the regression object onto the training set\n",
    "\n",
    "regression3.fit(X3_train, y3_train)"
   ]
  },
  {
   "cell_type": "code",
   "execution_count": 53,
   "id": "ed8dbd95",
   "metadata": {},
   "outputs": [],
   "source": [
    "# Predict the values of y using X.\n",
    "\n",
    "y3_predicted = regression3.predict(X3_test)"
   ]
  },
  {
   "cell_type": "code",
   "execution_count": 54,
   "id": "400da23c",
   "metadata": {},
   "outputs": [
    {
     "data": {
      "image/png": "[encoded data removed]",
      "text/plain": [
       "<Figure size 640x480 with 1 Axes>"
      ]
     },
     "metadata": {},
     "output_type": "display_data"
    }
   ],
   "source": [
    "# Create a plot that shows the regression line from the model on the test set.\n",
    "\n",
    "plot_test = plt\n",
    "plot_test.scatter(X3_test, y3_test, color = 'grey', s = 15)\n",
    "plot_test.plot(X3_test, y3_predicted, color = 'red', linewidth = 3)\n",
    "plt.title('Yearly Assets Growth(Test set)')  \n",
    "plt.xlabel('Year')  \n",
    "plt.ylabel('Assets Growth')  \n",
    "plt.show()"
   ]
  },
  {
   "cell_type": "code",
   "execution_count": 55,
   "id": "e3410608",
   "metadata": {},
   "outputs": [],
   "source": [
    "# Create objects that contain the model summary statistics\n",
    "\n",
    "rmse3 = mean_squared_error(y3_test, y3_predicted) \n",
    "r3 = r2_score(y3_test, y3_predicted)"
   ]
  },
  {
   "cell_type": "code",
   "execution_count": 56,
   "id": "1cc02b22",
   "metadata": {},
   "outputs": [
    {
     "name": "stdout",
     "output_type": "stream",
     "text": [
      "Slope: [[1.3566867]]\n",
      "Mean squared error:  99856.74752838296\n",
      "R2 score:  -0.0013392264635587736\n"
     ]
    }
   ],
   "source": [
    "# Print the model summary statistics. This is where you evaluate the performance of the model.\n",
    "\n",
    "print('Slope:' ,regression3.coef_)\n",
    "print('Mean squared error: ', rmse3)\n",
    "print('R2 score: ', r3)"
   ]
  },
  {
   "cell_type": "markdown",
   "id": "eba5b65f",
   "metadata": {},
   "source": [
    "**NOTE:** The `RMSE` at 99,856.74752838296 indicates that the model's predictions have relatively small errors on average. However, the `negative R2 score` of of -0.0013392264635587736, suggests that the model does not provide a good fit to the data and may not explain any significant relationships."
   ]
  },
  {
   "cell_type": "code",
   "execution_count": 57,
   "id": "8e296f04",
   "metadata": {},
   "outputs": [
    {
     "data": {
      "text/plain": [
       "array([[25.00957977],\n",
       "       [27.72295317],\n",
       "       [25.00957977],\n",
       "       ...,\n",
       "       [22.29620636],\n",
       "       [20.93951966],\n",
       "       [30.43632658]])"
      ]
     },
     "execution_count": 57,
     "metadata": {},
     "output_type": "execute_result"
    }
   ],
   "source": [
    "y3_predicted"
   ]
  },
  {
   "cell_type": "code",
   "execution_count": 58,
   "id": "624a1909",
   "metadata": {},
   "outputs": [
    {
     "data": {
      "text/html": [
       "<div>\n",
       "<style scoped>\n",
       "    .dataframe tbody tr th:only-of-type {\n",
       "        vertical-align: middle;\n",
       "    }\n",
       "\n",
       "    .dataframe tbody tr th {\n",
       "        vertical-align: top;\n",
       "    }\n",
       "\n",
       "    .dataframe thead th {\n",
       "        text-align: right;\n",
       "    }\n",
       "</style>\n",
       "<table border=\"1\" class=\"dataframe\">\n",
       "  <thead>\n",
       "    <tr style=\"text-align: right;\">\n",
       "      <th></th>\n",
       "      <th>Actual</th>\n",
       "      <th>Predicted</th>\n",
       "    </tr>\n",
       "  </thead>\n",
       "  <tbody>\n",
       "    <tr>\n",
       "      <th>0</th>\n",
       "      <td>15.666306</td>\n",
       "      <td>25.009580</td>\n",
       "    </tr>\n",
       "    <tr>\n",
       "      <th>1</th>\n",
       "      <td>-9.780766</td>\n",
       "      <td>27.722953</td>\n",
       "    </tr>\n",
       "    <tr>\n",
       "      <th>2</th>\n",
       "      <td>17.698562</td>\n",
       "      <td>25.009580</td>\n",
       "    </tr>\n",
       "    <tr>\n",
       "      <th>3</th>\n",
       "      <td>4.676417</td>\n",
       "      <td>29.079640</td>\n",
       "    </tr>\n",
       "    <tr>\n",
       "      <th>4</th>\n",
       "      <td>-3.884016</td>\n",
       "      <td>27.722953</td>\n",
       "    </tr>\n",
       "    <tr>\n",
       "      <th>5</th>\n",
       "      <td>45.320042</td>\n",
       "      <td>38.576447</td>\n",
       "    </tr>\n",
       "    <tr>\n",
       "      <th>6</th>\n",
       "      <td>-78.743018</td>\n",
       "      <td>35.863073</td>\n",
       "    </tr>\n",
       "    <tr>\n",
       "      <th>7</th>\n",
       "      <td>-34.714475</td>\n",
       "      <td>23.652893</td>\n",
       "    </tr>\n",
       "    <tr>\n",
       "      <th>8</th>\n",
       "      <td>-4.062955</td>\n",
       "      <td>31.793013</td>\n",
       "    </tr>\n",
       "    <tr>\n",
       "      <th>9</th>\n",
       "      <td>14.288331</td>\n",
       "      <td>22.296206</td>\n",
       "    </tr>\n",
       "    <tr>\n",
       "      <th>10</th>\n",
       "      <td>-1.446718</td>\n",
       "      <td>31.793013</td>\n",
       "    </tr>\n",
       "    <tr>\n",
       "      <th>11</th>\n",
       "      <td>8.895888</td>\n",
       "      <td>33.149700</td>\n",
       "    </tr>\n",
       "    <tr>\n",
       "      <th>12</th>\n",
       "      <td>-17.491148</td>\n",
       "      <td>34.506387</td>\n",
       "    </tr>\n",
       "    <tr>\n",
       "      <th>13</th>\n",
       "      <td>11.939535</td>\n",
       "      <td>35.863073</td>\n",
       "    </tr>\n",
       "    <tr>\n",
       "      <th>14</th>\n",
       "      <td>-16.689189</td>\n",
       "      <td>30.436327</td>\n",
       "    </tr>\n",
       "    <tr>\n",
       "      <th>15</th>\n",
       "      <td>27.557782</td>\n",
       "      <td>33.149700</td>\n",
       "    </tr>\n",
       "    <tr>\n",
       "      <th>16</th>\n",
       "      <td>12.597835</td>\n",
       "      <td>23.652893</td>\n",
       "    </tr>\n",
       "    <tr>\n",
       "      <th>17</th>\n",
       "      <td>44.330137</td>\n",
       "      <td>25.009580</td>\n",
       "    </tr>\n",
       "    <tr>\n",
       "      <th>18</th>\n",
       "      <td>5.186767</td>\n",
       "      <td>25.009580</td>\n",
       "    </tr>\n",
       "    <tr>\n",
       "      <th>19</th>\n",
       "      <td>12.341062</td>\n",
       "      <td>25.009580</td>\n",
       "    </tr>\n",
       "    <tr>\n",
       "      <th>20</th>\n",
       "      <td>-1.347916</td>\n",
       "      <td>27.722953</td>\n",
       "    </tr>\n",
       "    <tr>\n",
       "      <th>21</th>\n",
       "      <td>-21.038157</td>\n",
       "      <td>20.939520</td>\n",
       "    </tr>\n",
       "    <tr>\n",
       "      <th>22</th>\n",
       "      <td>4.188962</td>\n",
       "      <td>34.506387</td>\n",
       "    </tr>\n",
       "    <tr>\n",
       "      <th>23</th>\n",
       "      <td>26.637200</td>\n",
       "      <td>37.219760</td>\n",
       "    </tr>\n",
       "    <tr>\n",
       "      <th>24</th>\n",
       "      <td>51.293072</td>\n",
       "      <td>31.793013</td>\n",
       "    </tr>\n",
       "    <tr>\n",
       "      <th>25</th>\n",
       "      <td>242.045455</td>\n",
       "      <td>22.296206</td>\n",
       "    </tr>\n",
       "    <tr>\n",
       "      <th>26</th>\n",
       "      <td>-9.502605</td>\n",
       "      <td>31.793013</td>\n",
       "    </tr>\n",
       "    <tr>\n",
       "      <th>27</th>\n",
       "      <td>-15.208996</td>\n",
       "      <td>30.436327</td>\n",
       "    </tr>\n",
       "    <tr>\n",
       "      <th>28</th>\n",
       "      <td>0.163006</td>\n",
       "      <td>35.863073</td>\n",
       "    </tr>\n",
       "    <tr>\n",
       "      <th>29</th>\n",
       "      <td>18.282357</td>\n",
       "      <td>25.009580</td>\n",
       "    </tr>\n",
       "  </tbody>\n",
       "</table>\n",
       "</div>"
      ],
      "text/plain": [
       "        Actual  Predicted\n",
       "0    15.666306  25.009580\n",
       "1    -9.780766  27.722953\n",
       "2    17.698562  25.009580\n",
       "3     4.676417  29.079640\n",
       "4    -3.884016  27.722953\n",
       "5    45.320042  38.576447\n",
       "6   -78.743018  35.863073\n",
       "7   -34.714475  23.652893\n",
       "8    -4.062955  31.793013\n",
       "9    14.288331  22.296206\n",
       "10   -1.446718  31.793013\n",
       "11    8.895888  33.149700\n",
       "12  -17.491148  34.506387\n",
       "13   11.939535  35.863073\n",
       "14  -16.689189  30.436327\n",
       "15   27.557782  33.149700\n",
       "16   12.597835  23.652893\n",
       "17   44.330137  25.009580\n",
       "18    5.186767  25.009580\n",
       "19   12.341062  25.009580\n",
       "20   -1.347916  27.722953\n",
       "21  -21.038157  20.939520\n",
       "22    4.188962  34.506387\n",
       "23   26.637200  37.219760\n",
       "24   51.293072  31.793013\n",
       "25  242.045455  22.296206\n",
       "26   -9.502605  31.793013\n",
       "27  -15.208996  30.436327\n",
       "28    0.163006  35.863073\n",
       "29   18.282357  25.009580"
      ]
     },
     "execution_count": 58,
     "metadata": {},
     "output_type": "execute_result"
    }
   ],
   "source": [
    "# Create a dataframe comparing the actual and predicted values of y\n",
    "\n",
    "data3 = pd.DataFrame({'Actual': y3_test.flatten(), 'Predicted': y3_predicted.flatten()})\n",
    "data3.head(30)"
   ]
  },
  {
   "cell_type": "code",
   "execution_count": 59,
   "id": "3c0ec493",
   "metadata": {},
   "outputs": [],
   "source": [
    "# Predict\n",
    "# This is predicting X_train!\n",
    "\n",
    "y3_predicted_train = regression3.predict(X3_train) "
   ]
  },
  {
   "cell_type": "code",
   "execution_count": 60,
   "id": "cb94fd0b",
   "metadata": {},
   "outputs": [],
   "source": [
    "# Create objects that contain the model summary statistics\n",
    "\n",
    "rmse3 = mean_squared_error(y3_train, y3_predicted_train)\n",
    "r3 = r2_score(y3_train, y3_predicted_train)"
   ]
  },
  {
   "cell_type": "code",
   "execution_count": 61,
   "id": "29d2c37a",
   "metadata": {},
   "outputs": [
    {
     "name": "stdout",
     "output_type": "stream",
     "text": [
      "Slope: [[1.3566867]]\n",
      "Mean squared error:  86513.5059087285\n",
      "R2 score:  0.00033689691586369364\n"
     ]
    }
   ],
   "source": [
    "# Print the model summary statistics. Evaluating the performance of the model.\n",
    "\n",
    "print('Slope:' ,regression3.coef_)\n",
    "print('Mean squared error: ', rmse3)\n",
    "print('R2 score: ', r3)"
   ]
  },
  {
   "cell_type": "code",
   "execution_count": 62,
   "id": "3a228d92",
   "metadata": {},
   "outputs": [
    {
     "data": {
      "image/png": "[encoded data removed]",
      "text/plain": [
       "<Figure size 640x480 with 1 Axes>"
      ]
     },
     "metadata": {},
     "output_type": "display_data"
    }
   ],
   "source": [
    "# Visualizing the training set results.\n",
    "\n",
    "plot_test = plt\n",
    "plot_test.scatter(X3_train, y3_train, color ='seagreen', s = 15)\n",
    "plot_test.plot(X3_train, y3_predicted_train, color = 'red', linewidth = 3)\n",
    "plt.title('Yearly Assets Growth (Train set)')  \n",
    "plt.xlabel('Year')  \n",
    "plt.ylabel('Assets Growth')  \n",
    "plt.show()"
   ]
  },
  {
   "cell_type": "markdown",
   "id": "8d1b416b",
   "metadata": {},
   "source": [
    "**INTERPRETATION:** Based on the given results, the `model does not perform well`. The high mean squared error and the very low R2 score suggest that the model's predictions are not accurate and it fails to explain the relationship between the variables. This concludes that there may be other factors that could influence the companies asset growth."
   ]
  },
  {
   "cell_type": "markdown",
   "id": "282a56fd",
   "metadata": {},
   "source": [
    "**YEAR vs. PROFITS GROWTH**\n",
    "\n",
    "`VARIABLES TO BE TESTED:`\n",
    "\n",
    "X4 = Year  :  y4 = Profits"
   ]
  },
  {
   "cell_type": "code",
   "execution_count": 63,
   "id": "aaa54a49",
   "metadata": {},
   "outputs": [
    {
     "data": {
      "image/png": "[encoded data removed]",
      "text/plain": [
       "<Figure size 640x480 with 1 Axes>"
      ]
     },
     "metadata": {},
     "output_type": "display_data"
    }
   ],
   "source": [
    "# Creating a  scatterplot using matplotlib for another look at how the chosen variables plot against each other.\n",
    "\n",
    "df.plot(x = 'Year', y = 'Profits Growth', style = 'o')\n",
    "plt.title('Yearly Profits Growth')  \n",
    "plt.xlabel('Year')  \n",
    "plt.ylabel('Profits Growth')  \n",
    "plt.show()"
   ]
  },
  {
   "cell_type": "code",
   "execution_count": 64,
   "id": "6ab31a91",
   "metadata": {},
   "outputs": [],
   "source": [
    "# Reshape the variables and put them into separate objects.\n",
    "\n",
    "X4 = df['Year'].values.reshape(-1,1)\n",
    "y4 = df['Profits Growth'].values.reshape(-1,1)"
   ]
  },
  {
   "cell_type": "code",
   "execution_count": 65,
   "id": "8779e789",
   "metadata": {},
   "outputs": [
    {
     "data": {
      "text/plain": [
       "array([[2009],\n",
       "       [2009],\n",
       "       [2009],\n",
       "       ...,\n",
       "       [2022],\n",
       "       [2022],\n",
       "       [2022]], dtype=int64)"
      ]
     },
     "execution_count": 65,
     "metadata": {},
     "output_type": "execute_result"
    }
   ],
   "source": [
    "X4"
   ]
  },
  {
   "cell_type": "code",
   "execution_count": 66,
   "id": "d3d7bc34",
   "metadata": {},
   "outputs": [
    {
     "data": {
      "text/plain": [
       "array([[ -10.70297657],\n",
       "       [ -46.51162791],\n",
       "       [ 111.627907  ],\n",
       "       ...,\n",
       "       [-332.6759582 ],\n",
       "       [  17.01706835],\n",
       "       [  27.00631199]])"
      ]
     },
     "execution_count": 66,
     "metadata": {},
     "output_type": "execute_result"
    }
   ],
   "source": [
    "y4"
   ]
  },
  {
   "cell_type": "code",
   "execution_count": 67,
   "id": "5163f95b",
   "metadata": {},
   "outputs": [],
   "source": [
    "# Splitting data into a training set and a test set with the use of test_train_split\n",
    "\n",
    "X4_train, X4_test, y4_train, y4_test = train_test_split(X4, y4, test_size = 0.3, random_state = 0)"
   ]
  },
  {
   "cell_type": "code",
   "execution_count": 68,
   "id": "9f85a68d",
   "metadata": {},
   "outputs": [],
   "source": [
    "# Regression Analysis\n",
    "# Creating a regression object\n",
    "\n",
    "regression4 = LinearRegression()"
   ]
  },
  {
   "cell_type": "code",
   "execution_count": 69,
   "id": "28d3273b",
   "metadata": {},
   "outputs": [
    {
     "data": {
      "text/plain": [
       "LinearRegression()"
      ]
     },
     "execution_count": 69,
     "metadata": {},
     "output_type": "execute_result"
    }
   ],
   "source": [
    "# Fit the regression object onto the training set\n",
    "\n",
    "regression4.fit(X4_train, y4_train)"
   ]
  },
  {
   "cell_type": "code",
   "execution_count": 70,
   "id": "6c285943",
   "metadata": {},
   "outputs": [],
   "source": [
    "# Predict the values of y using X.\n",
    "\n",
    "y4_predicted = regression4.predict(X4_test)"
   ]
  },
  {
   "cell_type": "code",
   "execution_count": 71,
   "id": "5b31e517",
   "metadata": {},
   "outputs": [
    {
     "data": {
      "image/png": "[encoded data removed]",
      "text/plain": [
       "<Figure size 640x480 with 1 Axes>"
      ]
     },
     "metadata": {},
     "output_type": "display_data"
    }
   ],
   "source": [
    "# Create a plot that shows the regression line from the model on the test set.\n",
    "\n",
    "plot_test = plt\n",
    "plot_test.scatter(X4_test, y4_test, color = 'grey', s = 15)\n",
    "plot_test.plot(X4_test, y4_predicted, color = 'red', linewidth = 3)\n",
    "plt.title('Yearly Profits Growth (Test set)')  \n",
    "plt.xlabel('Year')  \n",
    "plt.ylabel('Profits Growth')  \n",
    "plt.show()"
   ]
  },
  {
   "cell_type": "code",
   "execution_count": 72,
   "id": "ce073bbe",
   "metadata": {},
   "outputs": [],
   "source": [
    "# Create objects that contain the model summary statistics\n",
    "\n",
    "rmse4 = mean_squared_error(y4_test, y4_predicted) \n",
    "r4 = r2_score(y4_test, y4_predicted)"
   ]
  },
  {
   "cell_type": "code",
   "execution_count": 73,
   "id": "6823d3b9",
   "metadata": {},
   "outputs": [
    {
     "name": "stdout",
     "output_type": "stream",
     "text": [
      "Slope: [[7.68677725]]\n",
      "Mean squared error:  613239.2321320348\n",
      "R2 score:  -0.005771016890766534\n"
     ]
    }
   ],
   "source": [
    "# Print the model summary statistics. This is where you evaluate the performance of the model.\n",
    "\n",
    "print('Slope:' ,regression4.coef_)\n",
    "print('Mean squared error: ', rmse4)\n",
    "print('R2 score: ', r4)"
   ]
  },
  {
   "cell_type": "markdown",
   "id": "95684806",
   "metadata": {},
   "source": [
    "The results are very similar to the first two models. It might not be a good fit to prove its model's accuracy."
   ]
  },
  {
   "cell_type": "code",
   "execution_count": 74,
   "id": "ac1ccfa3",
   "metadata": {},
   "outputs": [
    {
     "data": {
      "text/plain": [
       "array([[46.93942071],\n",
       "       [62.3129752 ],\n",
       "       [46.93942071],\n",
       "       ...,\n",
       "       [31.56586621],\n",
       "       [23.87908897],\n",
       "       [77.6865297 ]])"
      ]
     },
     "execution_count": 74,
     "metadata": {},
     "output_type": "execute_result"
    }
   ],
   "source": [
    "y4_predicted"
   ]
  },
  {
   "cell_type": "code",
   "execution_count": 75,
   "id": "25952b14",
   "metadata": {},
   "outputs": [
    {
     "data": {
      "text/html": [
       "<div>\n",
       "<style scoped>\n",
       "    .dataframe tbody tr th:only-of-type {\n",
       "        vertical-align: middle;\n",
       "    }\n",
       "\n",
       "    .dataframe tbody tr th {\n",
       "        vertical-align: top;\n",
       "    }\n",
       "\n",
       "    .dataframe thead th {\n",
       "        text-align: right;\n",
       "    }\n",
       "</style>\n",
       "<table border=\"1\" class=\"dataframe\">\n",
       "  <thead>\n",
       "    <tr style=\"text-align: right;\">\n",
       "      <th></th>\n",
       "      <th>Actual</th>\n",
       "      <th>Predicted</th>\n",
       "    </tr>\n",
       "  </thead>\n",
       "  <tbody>\n",
       "    <tr>\n",
       "      <th>0</th>\n",
       "      <td>66.751918</td>\n",
       "      <td>46.939421</td>\n",
       "    </tr>\n",
       "    <tr>\n",
       "      <th>1</th>\n",
       "      <td>-9.582389</td>\n",
       "      <td>62.312975</td>\n",
       "    </tr>\n",
       "    <tr>\n",
       "      <th>2</th>\n",
       "      <td>66.815145</td>\n",
       "      <td>46.939421</td>\n",
       "    </tr>\n",
       "    <tr>\n",
       "      <th>3</th>\n",
       "      <td>-14.313346</td>\n",
       "      <td>69.999752</td>\n",
       "    </tr>\n",
       "    <tr>\n",
       "      <th>4</th>\n",
       "      <td>-5.068226</td>\n",
       "      <td>62.312975</td>\n",
       "    </tr>\n",
       "    <tr>\n",
       "      <th>5</th>\n",
       "      <td>166.619916</td>\n",
       "      <td>123.807193</td>\n",
       "    </tr>\n",
       "    <tr>\n",
       "      <th>6</th>\n",
       "      <td>-92.187500</td>\n",
       "      <td>108.433639</td>\n",
       "    </tr>\n",
       "    <tr>\n",
       "      <th>7</th>\n",
       "      <td>-44.415584</td>\n",
       "      <td>39.252643</td>\n",
       "    </tr>\n",
       "    <tr>\n",
       "      <th>8</th>\n",
       "      <td>-22.344322</td>\n",
       "      <td>85.373307</td>\n",
       "    </tr>\n",
       "    <tr>\n",
       "      <th>9</th>\n",
       "      <td>-96.000000</td>\n",
       "      <td>31.565866</td>\n",
       "    </tr>\n",
       "    <tr>\n",
       "      <th>10</th>\n",
       "      <td>0.838574</td>\n",
       "      <td>85.373307</td>\n",
       "    </tr>\n",
       "    <tr>\n",
       "      <th>11</th>\n",
       "      <td>-8.883249</td>\n",
       "      <td>93.060084</td>\n",
       "    </tr>\n",
       "    <tr>\n",
       "      <th>12</th>\n",
       "      <td>0.075988</td>\n",
       "      <td>100.746861</td>\n",
       "    </tr>\n",
       "    <tr>\n",
       "      <th>13</th>\n",
       "      <td>-89.667298</td>\n",
       "      <td>108.433639</td>\n",
       "    </tr>\n",
       "    <tr>\n",
       "      <th>14</th>\n",
       "      <td>-0.967742</td>\n",
       "      <td>77.686530</td>\n",
       "    </tr>\n",
       "    <tr>\n",
       "      <th>15</th>\n",
       "      <td>33.123845</td>\n",
       "      <td>93.060084</td>\n",
       "    </tr>\n",
       "    <tr>\n",
       "      <th>16</th>\n",
       "      <td>-23.535354</td>\n",
       "      <td>39.252643</td>\n",
       "    </tr>\n",
       "    <tr>\n",
       "      <th>17</th>\n",
       "      <td>50.213980</td>\n",
       "      <td>46.939421</td>\n",
       "    </tr>\n",
       "    <tr>\n",
       "      <th>18</th>\n",
       "      <td>-50.099536</td>\n",
       "      <td>46.939421</td>\n",
       "    </tr>\n",
       "    <tr>\n",
       "      <th>19</th>\n",
       "      <td>-15.603113</td>\n",
       "      <td>46.939421</td>\n",
       "    </tr>\n",
       "    <tr>\n",
       "      <th>20</th>\n",
       "      <td>-44.415415</td>\n",
       "      <td>62.312975</td>\n",
       "    </tr>\n",
       "    <tr>\n",
       "      <th>21</th>\n",
       "      <td>53.781513</td>\n",
       "      <td>23.879089</td>\n",
       "    </tr>\n",
       "    <tr>\n",
       "      <th>22</th>\n",
       "      <td>-74.158523</td>\n",
       "      <td>100.746861</td>\n",
       "    </tr>\n",
       "    <tr>\n",
       "      <th>23</th>\n",
       "      <td>36.485520</td>\n",
       "      <td>116.120416</td>\n",
       "    </tr>\n",
       "    <tr>\n",
       "      <th>24</th>\n",
       "      <td>31.949458</td>\n",
       "      <td>85.373307</td>\n",
       "    </tr>\n",
       "    <tr>\n",
       "      <th>25</th>\n",
       "      <td>-67.500000</td>\n",
       "      <td>31.565866</td>\n",
       "    </tr>\n",
       "    <tr>\n",
       "      <th>26</th>\n",
       "      <td>79.940120</td>\n",
       "      <td>85.373307</td>\n",
       "    </tr>\n",
       "    <tr>\n",
       "      <th>27</th>\n",
       "      <td>-17.603912</td>\n",
       "      <td>77.686530</td>\n",
       "    </tr>\n",
       "    <tr>\n",
       "      <th>28</th>\n",
       "      <td>7.692308</td>\n",
       "      <td>108.433639</td>\n",
       "    </tr>\n",
       "    <tr>\n",
       "      <th>29</th>\n",
       "      <td>-545.526524</td>\n",
       "      <td>46.939421</td>\n",
       "    </tr>\n",
       "  </tbody>\n",
       "</table>\n",
       "</div>"
      ],
      "text/plain": [
       "        Actual   Predicted\n",
       "0    66.751918   46.939421\n",
       "1    -9.582389   62.312975\n",
       "2    66.815145   46.939421\n",
       "3   -14.313346   69.999752\n",
       "4    -5.068226   62.312975\n",
       "5   166.619916  123.807193\n",
       "6   -92.187500  108.433639\n",
       "7   -44.415584   39.252643\n",
       "8   -22.344322   85.373307\n",
       "9   -96.000000   31.565866\n",
       "10    0.838574   85.373307\n",
       "11   -8.883249   93.060084\n",
       "12    0.075988  100.746861\n",
       "13  -89.667298  108.433639\n",
       "14   -0.967742   77.686530\n",
       "15   33.123845   93.060084\n",
       "16  -23.535354   39.252643\n",
       "17   50.213980   46.939421\n",
       "18  -50.099536   46.939421\n",
       "19  -15.603113   46.939421\n",
       "20  -44.415415   62.312975\n",
       "21   53.781513   23.879089\n",
       "22  -74.158523  100.746861\n",
       "23   36.485520  116.120416\n",
       "24   31.949458   85.373307\n",
       "25  -67.500000   31.565866\n",
       "26   79.940120   85.373307\n",
       "27  -17.603912   77.686530\n",
       "28    7.692308  108.433639\n",
       "29 -545.526524   46.939421"
      ]
     },
     "execution_count": 75,
     "metadata": {},
     "output_type": "execute_result"
    }
   ],
   "source": [
    "# Create a dataframe comparing the actual and predicted values of y\n",
    "\n",
    "data4 = pd.DataFrame({'Actual': y4_test.flatten(), 'Predicted': y4_predicted.flatten()})\n",
    "data4.head(30)"
   ]
  },
  {
   "cell_type": "code",
   "execution_count": 76,
   "id": "d8c0d912",
   "metadata": {},
   "outputs": [],
   "source": [
    "# Predict\n",
    "# This is predicting X_train!\n",
    "\n",
    "y4_predicted_train = regression4.predict(X4_train) "
   ]
  },
  {
   "cell_type": "code",
   "execution_count": 77,
   "id": "dc6859a7",
   "metadata": {},
   "outputs": [],
   "source": [
    "# Create objects that contain the model summary statistics\n",
    "\n",
    "rmse4 = mean_squared_error(y4_train, y4_predicted_train)\n",
    "r4 = r2_score(y4_train, y4_predicted_train)"
   ]
  },
  {
   "cell_type": "code",
   "execution_count": 78,
   "id": "5c48dc66",
   "metadata": {},
   "outputs": [
    {
     "name": "stdout",
     "output_type": "stream",
     "text": [
      "Slope: [[7.68677725]]\n",
      "Mean squared error:  2687738.1870589806\n",
      "R2 score:  0.00034811165845050063\n"
     ]
    }
   ],
   "source": [
    "# Print the model summary statistics. Evaluating the performance of the model.\n",
    "\n",
    "print('Slope:' ,regression4.coef_)\n",
    "print('Mean squared error: ', rmse4)\n",
    "print('R2 score: ', r4)"
   ]
  },
  {
   "cell_type": "code",
   "execution_count": 79,
   "id": "11114869",
   "metadata": {},
   "outputs": [
    {
     "data": {
      "image/png": "[encoded data removed]",
      "text/plain": [
       "<Figure size 640x480 with 1 Axes>"
      ]
     },
     "metadata": {},
     "output_type": "display_data"
    }
   ],
   "source": [
    "# Visualizing the training set results.\n",
    "\n",
    "plot_test = plt\n",
    "plot_test.scatter(X4_train, y4_train, color ='seagreen', s = 15)\n",
    "plot_test.plot(X4_train, y4_predicted_train, color = 'red', linewidth = 3)\n",
    "plt.title('Yearly Profits Growth (Train set)')  \n",
    "plt.xlabel('Year')  \n",
    "plt.ylabel('Profits Growth')  \n",
    "plt.show()"
   ]
  },
  {
   "cell_type": "markdown",
   "id": "21ce25ea",
   "metadata": {},
   "source": [
    "**INTERPRETATION:** The model's performance is still not considered strong, and there is room for further improvement."
   ]
  },
  {
   "cell_type": "markdown",
   "id": "0a82e86d",
   "metadata": {},
   "source": [
    "**YEAR vs. MARKET VALUE GROWTH**\n",
    "\n",
    "`VARIABLES TO BE TESTED:`\n",
    "\n",
    "X5 = Year  :  y5 = Market Value"
   ]
  },
  {
   "cell_type": "code",
   "execution_count": 80,
   "id": "14eec0c9",
   "metadata": {},
   "outputs": [
    {
     "data": {
      "image/png": "[encoded data removed]",
      "text/plain": [
       "<Figure size 640x480 with 1 Axes>"
      ]
     },
     "metadata": {},
     "output_type": "display_data"
    }
   ],
   "source": [
    "# Creating a  scatterplot using matplotlib for another look at how the chosen variables plot against each other.\n",
    "\n",
    "df.plot(x = 'Year', y = 'Market Value Growth', style = 'o')\n",
    "plt.title('Yearly Market Value Growth')  \n",
    "plt.xlabel('Year')  \n",
    "plt.ylabel('Market Value Growth')  \n",
    "plt.show()"
   ]
  },
  {
   "cell_type": "code",
   "execution_count": 81,
   "id": "15ecc7aa",
   "metadata": {},
   "outputs": [],
   "source": [
    "# Reshape the variables and put them into separate objects.\n",
    "\n",
    "X5 = df['Year'].values.reshape(-1,1)\n",
    "y5 = df['Market Value Growth'].values.reshape(-1,1)"
   ]
  },
  {
   "cell_type": "code",
   "execution_count": 82,
   "id": "a99c766e",
   "metadata": {},
   "outputs": [
    {
     "data": {
      "text/plain": [
       "array([[2009],\n",
       "       [2009],\n",
       "       [2009],\n",
       "       ...,\n",
       "       [2022],\n",
       "       [2022],\n",
       "       [2022]], dtype=int64)"
      ]
     },
     "execution_count": 82,
     "metadata": {},
     "output_type": "execute_result"
    }
   ],
   "source": [
    "X5"
   ]
  },
  {
   "cell_type": "code",
   "execution_count": 83,
   "id": "c00b1d50",
   "metadata": {},
   "outputs": [
    {
     "data": {
      "text/plain": [
       "array([[-46.67645979],\n",
       "       [-70.40520984],\n",
       "       [-37.58865248],\n",
       "       ...,\n",
       "       [ -9.37346334],\n",
       "       [  9.40585217],\n",
       "       [  7.22062075]])"
      ]
     },
     "execution_count": 83,
     "metadata": {},
     "output_type": "execute_result"
    }
   ],
   "source": [
    "y5"
   ]
  },
  {
   "cell_type": "code",
   "execution_count": 84,
   "id": "6e6f937a",
   "metadata": {},
   "outputs": [],
   "source": [
    "# Splitting data into a training set and a test set with the use of test_train_split\n",
    "\n",
    "X5_train, X5_test, y5_train, y5_test = train_test_split(X5, y5, test_size = 0.3, random_state = 0)"
   ]
  },
  {
   "cell_type": "code",
   "execution_count": 85,
   "id": "97af86bb",
   "metadata": {},
   "outputs": [],
   "source": [
    "# Regression Analysis\n",
    "# Creating a regression object\n",
    "\n",
    "regression5 = LinearRegression()"
   ]
  },
  {
   "cell_type": "code",
   "execution_count": 86,
   "id": "147d7487",
   "metadata": {},
   "outputs": [
    {
     "data": {
      "text/plain": [
       "LinearRegression()"
      ]
     },
     "execution_count": 86,
     "metadata": {},
     "output_type": "execute_result"
    }
   ],
   "source": [
    "# Fit the regression object onto the training set\n",
    "\n",
    "regression5.fit(X5_train, y5_train)"
   ]
  },
  {
   "cell_type": "code",
   "execution_count": 87,
   "id": "5d648acd",
   "metadata": {},
   "outputs": [],
   "source": [
    "# Predict the values of y using X.\n",
    "\n",
    "y5_predicted = regression5.predict(X5_test)"
   ]
  },
  {
   "cell_type": "code",
   "execution_count": 88,
   "id": "c4e5485d",
   "metadata": {},
   "outputs": [
    {
     "data": {
      "image/png": "[encoded data removed]",
      "text/plain": [
       "<Figure size 640x480 with 1 Axes>"
      ]
     },
     "metadata": {},
     "output_type": "display_data"
    }
   ],
   "source": [
    "# Create a plot that shows the regression line from the model on the test set.\n",
    "\n",
    "plot_test = plt\n",
    "plot_test.scatter(X5_test, y5_test, color = 'grey', s = 15)\n",
    "plot_test.plot(X5_test, y5_predicted, color = 'red', linewidth = 3)\n",
    "plt.title('Yearly Market Value Growth (Test set)')  \n",
    "plt.xlabel('Year')  \n",
    "plt.ylabel('Market Value Growth')  \n",
    "plt.show()"
   ]
  },
  {
   "cell_type": "code",
   "execution_count": 89,
   "id": "9fc3d60c",
   "metadata": {},
   "outputs": [],
   "source": [
    "# Create objects that contain the model summary statistics\n",
    "\n",
    "rmse5 = mean_squared_error(y5_test, y5_predicted) \n",
    "r5 = r2_score(y5_test, y5_predicted)"
   ]
  },
  {
   "cell_type": "code",
   "execution_count": 90,
   "id": "2883b9ef",
   "metadata": {},
   "outputs": [
    {
     "name": "stdout",
     "output_type": "stream",
     "text": [
      "Slope: [[3.54863664]]\n",
      "Mean squared error:  101567.35973189244\n",
      "R2 score:  -0.001578602303291099\n"
     ]
    }
   ],
   "source": [
    "# Print the model summary statistics. This is where you evaluate the performance of the model.\n",
    "\n",
    "print('Slope:' ,regression5.coef_)\n",
    "print('Mean squared error: ', rmse5)\n",
    "print('R2 score: ', r5)"
   ]
  },
  {
   "cell_type": "markdown",
   "id": "2a4e3be0",
   "metadata": {},
   "source": [
    "**NOTE:** There are no significant differences from the first three models. The `high RSME` and `low R2 score` results suggests data point doesn't fit to perfrom accuracy."
   ]
  },
  {
   "cell_type": "code",
   "execution_count": 91,
   "id": "29c3e2ea",
   "metadata": {},
   "outputs": [
    {
     "data": {
      "text/plain": [
       "array([[24.70491781],\n",
       "       [31.80219108],\n",
       "       [24.70491781],\n",
       "       ...,\n",
       "       [17.60764453],\n",
       "       [14.05900789],\n",
       "       [38.89946436]])"
      ]
     },
     "execution_count": 91,
     "metadata": {},
     "output_type": "execute_result"
    }
   ],
   "source": [
    "y5_predicted"
   ]
  },
  {
   "cell_type": "code",
   "execution_count": 92,
   "id": "8d475bdb",
   "metadata": {},
   "outputs": [
    {
     "data": {
      "text/html": [
       "<div>\n",
       "<style scoped>\n",
       "    .dataframe tbody tr th:only-of-type {\n",
       "        vertical-align: middle;\n",
       "    }\n",
       "\n",
       "    .dataframe tbody tr th {\n",
       "        vertical-align: top;\n",
       "    }\n",
       "\n",
       "    .dataframe thead th {\n",
       "        text-align: right;\n",
       "    }\n",
       "</style>\n",
       "<table border=\"1\" class=\"dataframe\">\n",
       "  <thead>\n",
       "    <tr style=\"text-align: right;\">\n",
       "      <th></th>\n",
       "      <th>Actual</th>\n",
       "      <th>Predicted</th>\n",
       "    </tr>\n",
       "  </thead>\n",
       "  <tbody>\n",
       "    <tr>\n",
       "      <th>0</th>\n",
       "      <td>46.321764</td>\n",
       "      <td>24.704918</td>\n",
       "    </tr>\n",
       "    <tr>\n",
       "      <th>1</th>\n",
       "      <td>0.722386</td>\n",
       "      <td>31.802191</td>\n",
       "    </tr>\n",
       "    <tr>\n",
       "      <th>2</th>\n",
       "      <td>-1.288917</td>\n",
       "      <td>24.704918</td>\n",
       "    </tr>\n",
       "    <tr>\n",
       "      <th>3</th>\n",
       "      <td>-35.469335</td>\n",
       "      <td>35.350828</td>\n",
       "    </tr>\n",
       "    <tr>\n",
       "      <th>4</th>\n",
       "      <td>-16.849140</td>\n",
       "      <td>31.802191</td>\n",
       "    </tr>\n",
       "    <tr>\n",
       "      <th>5</th>\n",
       "      <td>1076.755256</td>\n",
       "      <td>60.191284</td>\n",
       "    </tr>\n",
       "    <tr>\n",
       "      <th>6</th>\n",
       "      <td>-66.148382</td>\n",
       "      <td>53.094011</td>\n",
       "    </tr>\n",
       "    <tr>\n",
       "      <th>7</th>\n",
       "      <td>-34.646195</td>\n",
       "      <td>21.156281</td>\n",
       "    </tr>\n",
       "    <tr>\n",
       "      <th>8</th>\n",
       "      <td>40.578612</td>\n",
       "      <td>42.448101</td>\n",
       "    </tr>\n",
       "    <tr>\n",
       "      <th>9</th>\n",
       "      <td>32.646421</td>\n",
       "      <td>17.607645</td>\n",
       "    </tr>\n",
       "    <tr>\n",
       "      <th>10</th>\n",
       "      <td>-0.325706</td>\n",
       "      <td>42.448101</td>\n",
       "    </tr>\n",
       "    <tr>\n",
       "      <th>11</th>\n",
       "      <td>2.225313</td>\n",
       "      <td>45.996738</td>\n",
       "    </tr>\n",
       "    <tr>\n",
       "      <th>12</th>\n",
       "      <td>-7.792305</td>\n",
       "      <td>49.545374</td>\n",
       "    </tr>\n",
       "    <tr>\n",
       "      <th>13</th>\n",
       "      <td>-1.147605</td>\n",
       "      <td>53.094011</td>\n",
       "    </tr>\n",
       "    <tr>\n",
       "      <th>14</th>\n",
       "      <td>-31.757391</td>\n",
       "      <td>38.899464</td>\n",
       "    </tr>\n",
       "    <tr>\n",
       "      <th>15</th>\n",
       "      <td>46.612510</td>\n",
       "      <td>45.996738</td>\n",
       "    </tr>\n",
       "    <tr>\n",
       "      <th>16</th>\n",
       "      <td>57.985401</td>\n",
       "      <td>21.156281</td>\n",
       "    </tr>\n",
       "    <tr>\n",
       "      <th>17</th>\n",
       "      <td>62.299482</td>\n",
       "      <td>24.704918</td>\n",
       "    </tr>\n",
       "    <tr>\n",
       "      <th>18</th>\n",
       "      <td>-25.379525</td>\n",
       "      <td>24.704918</td>\n",
       "    </tr>\n",
       "    <tr>\n",
       "      <th>19</th>\n",
       "      <td>-18.245550</td>\n",
       "      <td>24.704918</td>\n",
       "    </tr>\n",
       "    <tr>\n",
       "      <th>20</th>\n",
       "      <td>-11.957593</td>\n",
       "      <td>31.802191</td>\n",
       "    </tr>\n",
       "    <tr>\n",
       "      <th>21</th>\n",
       "      <td>-78.661616</td>\n",
       "      <td>14.059008</td>\n",
       "    </tr>\n",
       "    <tr>\n",
       "      <th>22</th>\n",
       "      <td>-22.317560</td>\n",
       "      <td>49.545374</td>\n",
       "    </tr>\n",
       "    <tr>\n",
       "      <th>23</th>\n",
       "      <td>28.410709</td>\n",
       "      <td>56.642648</td>\n",
       "    </tr>\n",
       "    <tr>\n",
       "      <th>24</th>\n",
       "      <td>-5.017591</td>\n",
       "      <td>42.448101</td>\n",
       "    </tr>\n",
       "    <tr>\n",
       "      <th>25</th>\n",
       "      <td>549.575071</td>\n",
       "      <td>17.607645</td>\n",
       "    </tr>\n",
       "    <tr>\n",
       "      <th>26</th>\n",
       "      <td>-5.085740</td>\n",
       "      <td>42.448101</td>\n",
       "    </tr>\n",
       "    <tr>\n",
       "      <th>27</th>\n",
       "      <td>4.279455</td>\n",
       "      <td>38.899464</td>\n",
       "    </tr>\n",
       "    <tr>\n",
       "      <th>28</th>\n",
       "      <td>-35.031045</td>\n",
       "      <td>53.094011</td>\n",
       "    </tr>\n",
       "    <tr>\n",
       "      <th>29</th>\n",
       "      <td>-7.476798</td>\n",
       "      <td>24.704918</td>\n",
       "    </tr>\n",
       "  </tbody>\n",
       "</table>\n",
       "</div>"
      ],
      "text/plain": [
       "         Actual  Predicted\n",
       "0     46.321764  24.704918\n",
       "1      0.722386  31.802191\n",
       "2     -1.288917  24.704918\n",
       "3    -35.469335  35.350828\n",
       "4    -16.849140  31.802191\n",
       "5   1076.755256  60.191284\n",
       "6    -66.148382  53.094011\n",
       "7    -34.646195  21.156281\n",
       "8     40.578612  42.448101\n",
       "9     32.646421  17.607645\n",
       "10    -0.325706  42.448101\n",
       "11     2.225313  45.996738\n",
       "12    -7.792305  49.545374\n",
       "13    -1.147605  53.094011\n",
       "14   -31.757391  38.899464\n",
       "15    46.612510  45.996738\n",
       "16    57.985401  21.156281\n",
       "17    62.299482  24.704918\n",
       "18   -25.379525  24.704918\n",
       "19   -18.245550  24.704918\n",
       "20   -11.957593  31.802191\n",
       "21   -78.661616  14.059008\n",
       "22   -22.317560  49.545374\n",
       "23    28.410709  56.642648\n",
       "24    -5.017591  42.448101\n",
       "25   549.575071  17.607645\n",
       "26    -5.085740  42.448101\n",
       "27     4.279455  38.899464\n",
       "28   -35.031045  53.094011\n",
       "29    -7.476798  24.704918"
      ]
     },
     "execution_count": 92,
     "metadata": {},
     "output_type": "execute_result"
    }
   ],
   "source": [
    "# Create a dataframe comparing the actual and predicted values of y\n",
    "\n",
    "data5 = pd.DataFrame({'Actual': y5_test.flatten(), 'Predicted': y5_predicted.flatten()})\n",
    "data5.head(30)"
   ]
  },
  {
   "cell_type": "code",
   "execution_count": 93,
   "id": "facb1503",
   "metadata": {},
   "outputs": [],
   "source": [
    "# Predict\n",
    "# This is predicting X_train!\n",
    "\n",
    "y5_predicted_train = regression5.predict(X5_train) "
   ]
  },
  {
   "cell_type": "code",
   "execution_count": 94,
   "id": "342f6626",
   "metadata": {},
   "outputs": [],
   "source": [
    "# Create objects that contain the model summary statistics\n",
    "\n",
    "rmse5 = mean_squared_error(y5_train, y5_predicted_train)\n",
    "r5 = r2_score(y5_train, y5_predicted_train)"
   ]
  },
  {
   "cell_type": "code",
   "execution_count": 95,
   "id": "613745c9",
   "metadata": {},
   "outputs": [
    {
     "name": "stdout",
     "output_type": "stream",
     "text": [
      "Slope: [[3.54863664]]\n",
      "Mean squared error:  318607.40726250684\n",
      "R2 score:  0.0006256962066776284\n"
     ]
    }
   ],
   "source": [
    "# Print the model summary statistics. Evaluating the performance of the model.\n",
    "\n",
    "print('Slope:' ,regression5.coef_)\n",
    "print('Mean squared error: ', rmse5)\n",
    "print('R2 score: ', r5)"
   ]
  },
  {
   "cell_type": "code",
   "execution_count": 96,
   "id": "3e8aa396",
   "metadata": {},
   "outputs": [
    {
     "data": {
      "image/png": "[encoded data removed]",
      "text/plain": [
       "<Figure size 640x480 with 1 Axes>"
      ]
     },
     "metadata": {},
     "output_type": "display_data"
    }
   ],
   "source": [
    "# Visualizing the training set results.\n",
    "\n",
    "plot_test = plt\n",
    "plot_test.scatter(X5_train, y5_train, color ='seagreen', s = 15)\n",
    "plot_test.plot(X5_train, y5_predicted_train, color = 'red', linewidth = 3)\n",
    "plt.title('Yearly Market Value Growth (Train set)')  \n",
    "plt.xlabel('Year')  \n",
    "plt.ylabel('Market Value Growth')  \n",
    "plt.show()"
   ]
  },
  {
   "cell_type": "markdown",
   "id": "9209332c",
   "metadata": {},
   "source": [
    "**INTERPRETATION:** The model's performance results exhibit no significant changes, and the findings remain consistent."
   ]
  }
 ],
 "metadata": {
  "kernelspec": {
   "display_name": "Python 3 (ipykernel)",
   "language": "python",
   "name": "python3"
  },
  "language_info": {
   "codemirror_mode": {
    "name": "ipython",
    "version": 3
   },
   "file_extension": ".py",
   "mimetype": "text/x-python",
   "name": "python",
   "nbconvert_exporter": "python",
   "pygments_lexer": "ipython3",
   "version": "3.9.13"
  }
 },
 "nbformat": 4,
 "nbformat_minor": 5
}
